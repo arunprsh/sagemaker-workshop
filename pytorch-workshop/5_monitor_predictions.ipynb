{
 "cells": [
  {
   "cell_type": "markdown",
   "metadata": {},
   "source": [
    "# Monitoring model predictions using Amazon SageMaker's Model Monitor\n",
    "\n",
    "1. [Introduction](#Introduction)\n",
    "2. [Host the model with monitoring enabled](#Host-the-model-with-Model-Monitoring-data-capture-enabled)\n",
    "3. [Send predictions to the model](#Send-predictions-to-the-model)\n",
    "4. [Review captured predictions and responses](#View-the-data-captured-by-Model-Monitor)\n",
    "5. [Clean up](#Clean-up)"
   ]
  },
  {
   "cell_type": "markdown",
   "metadata": {},
   "source": [
    "## Introduction\n",
    "\n",
    "Amazon SageMaker [Model Monitor](https://docs.aws.amazon.com/sagemaker/latest/dg/model-monitor.html), a new capability of Amazon SageMaker that automatically monitors machine learning (ML) models in production, and alerts you when data quality issues appear. This notebook demonstrates how you leverage Model Monitor's data capture capability against the PyTorch based image classification workload developed in earlier labs.\n",
    "\n",
    "More specifically, we will stand up a SageMaker endpoint to host model predictions, but this time, we will enable data capture of both requests and responses. We then generate load to make requests to the endpoint. Lastly, we explore the data that Model Monitor has captured for us in S3. "
   ]
  },
  {
   "cell_type": "markdown",
   "metadata": {},
   "source": [
    "## Setup"
   ]
  },
  {
   "cell_type": "code",
   "execution_count": 107,
   "metadata": {},
   "outputs": [
    {
     "name": "stdout",
     "output_type": "stream",
     "text": [
      "s3://sagemaker-us-east-2-355151823911/DEMO-PYT-image-classification-birds/endpoint-data-capture/\n"
     ]
    }
   ],
   "source": [
    "bucket = sess.default_bucket() # or use your own custom bucket name\n",
    "prefix = 'DEMO-PYT-image-classification-birds'\n",
    "training_job_name = 'pyt-ic-2020-03-02-17-28-52-529'#'<enter your training job name here>'  ### Replace this with your job name from the previous lab\n",
    "s3_capture_upload_path = f's3://{bucket}/{prefix}/endpoint-data-capture/' # 'FILL-IN-HERE-YOUR-S3-BUCKET-PREFIX-HERE' #example: s3://bucket-name/path/to/endpoint-data-capture/\n",
    "print(s3_capture_upload_path)\n",
    "##### \n",
    "## IMPORTANT\n",
    "##\n",
    "## Please make sure to add the \"s3:PutObject\" permission to the \"role' you provided in the SageMaker Model \n",
    "## behind this Endpoint. Otherwise, Endpoint data capture will not work.\n",
    "## \n",
    "##### "
   ]
  },
  {
   "cell_type": "code",
   "execution_count": 108,
   "metadata": {},
   "outputs": [],
   "source": [
    "#!pip install sagemaker # workaround for Studio preview issue"
   ]
  },
  {
   "cell_type": "markdown",
   "metadata": {},
   "source": [
    "To host the image classification model on Amazon SageMaker, we need to setup and authenticate the use of AWS services. To begin with, we need an AWS account role with SageMaker access. Here we will use the execution role the current notebook instance was given when it was created.  This role has necessary permissions, including access to your data in S3."
   ]
  },
  {
   "cell_type": "code",
   "execution_count": 109,
   "metadata": {},
   "outputs": [
    {
     "name": "stdout",
     "output_type": "stream",
     "text": [
      "arn:aws:iam::355151823911:role/service-role/AmazonSageMaker-ExecutionRole-20180515T132694\n"
     ]
    }
   ],
   "source": [
    "import sagemaker\n",
    "from sagemaker import get_execution_role\n",
    "\n",
    "role = get_execution_role()\n",
    "print(role)\n",
    "sess = sagemaker.Session()"
   ]
  },
  {
   "cell_type": "markdown",
   "metadata": {},
   "source": [
    "We also need to identify the S3 bucket that you want to use for capturing prediction data. In this notebook, we use a default bucket for use with SageMaker in your account. Alternatively, you could use whatever bucket you would like.  We use an object prefix to help organize the bucket content."
   ]
  },
  {
   "cell_type": "markdown",
   "metadata": {},
   "source": [
    "## Create train/val/test dataframes from our dataset"
   ]
  },
  {
   "cell_type": "code",
   "execution_count": 110,
   "metadata": {},
   "outputs": [],
   "source": [
    "import pandas as pd\n",
    "import boto3\n",
    "import json\n",
    "import pandas as pd\n",
    "\n",
    "runtime = boto3.client(service_name='runtime.sagemaker')\n",
    "\n",
    "import matplotlib.pyplot as plt\n",
    "%matplotlib inline\n",
    "\n",
    "# To speed up training and experimenting, you can use a small handful of species.\n",
    "# To see the full list of the classes available, look at the content of CLASSES_FILE.\n",
    "SAMPLE_ONLY  = True\n",
    "CLASSES = [13, 17, 35, 36]#, 47, 68, 73, 75, 87, 95, 120, 179, 192]\n",
    "#CLASSES = [ 1,  2,  3,  4,  5,  6,  7,  8,  9, 10,  11,  12,  13,\n",
    "#           17, 35, 36, 47, 68, 73, 75, 87, 95, 120, 179, 192, 193]\n",
    "\n",
    "# Otherwise, you can use the full set of species\n",
    "if not SAMPLE_ONLY:\n",
    "    CLASSES = []\n",
    "    for c in range(200):\n",
    "        CLASSES += [c + 1]\n",
    "    prefix = prefix + '-full'\n",
    "\n",
    "#BASE_DIR   = 'CUB_200_2011/'\n",
    "BASE_DIR   = 'CUB_MINI/'\n",
    "\n",
    "IMAGES_DIR = BASE_DIR + 'images/'\n",
    "CLASSES_FILE = BASE_DIR + 'classes.txt'\n",
    "\n",
    "EXCLUDE_IMAGE_LIST = ['087.Mallard/Mallard_0130_76836.jpg']\n",
    "\n",
    "SPLIT_RATIOS = (0.6, 0.2, 0.2)\n",
    "\n",
    "CLASS_COLS   = ['class_number','class_id']\n",
    "\n",
    "JOB_PREFIX   = 'pyt-ic'"
   ]
  },
  {
   "cell_type": "markdown",
   "metadata": {},
   "source": [
    "## Prepare the data channels for Amazon SageMaker\n",
    "Here we will populate the local data channels with folders containing the original JPG images organized by class folders. We will use these images to generate a set of prediction requests to the endpoint."
   ]
  },
  {
   "cell_type": "code",
   "execution_count": 111,
   "metadata": {},
   "outputs": [
    {
     "name": "stdout",
     "output_type": "stream",
     "text": [
      "['013.Bobolink', '017.Cardinal', '035.Purple_Finch', '036.Northern_Flicker']\n"
     ]
    }
   ],
   "source": [
    "classes_df = pd.read_csv(CLASSES_FILE, sep=' ', names=CLASS_COLS, header=None)\n",
    "criteria = classes_df['class_number'].isin(CLASSES)\n",
    "classes_df = classes_df[criteria]\n",
    "\n",
    "class_name_list = sorted(classes_df['class_id'].unique().tolist())\n",
    "print(class_name_list)"
   ]
  },
  {
   "cell_type": "code",
   "execution_count": 112,
   "metadata": {},
   "outputs": [
    {
     "name": "stdout",
     "output_type": "stream",
     "text": [
      "Using 237 images from 4 classes\n",
      "num images total: 11788\n",
      "\n",
      "num train: 142\n",
      "num val: 47\n",
      "num test: 48\n"
     ]
    }
   ],
   "source": [
    "from utils import split\n",
    "train_df, val_df, test_df = split.get_train_val_dataframes(BASE_DIR, CLASSES, EXCLUDE_IMAGE_LIST, SPLIT_RATIOS)"
   ]
  },
  {
   "cell_type": "code",
   "execution_count": 113,
   "metadata": {},
   "outputs": [],
   "source": [
    "CHANNEL_FOLDER = 'data'"
   ]
  },
  {
   "cell_type": "markdown",
   "metadata": {},
   "source": [
    "### Populate local data channels\n",
    "Here we populate the local channel folders, and we handle re-populating in case we have already run through this notebook with a different subset of bird species. We'll use these images for testing the model you created earlier. You can skip these cells if you are re-running this notebook after already having populated these folders. "
   ]
  },
  {
   "cell_type": "code",
   "execution_count": 8,
   "metadata": {},
   "outputs": [],
   "source": [
    "import os\n",
    "cwd = os.getcwd()"
   ]
  },
  {
   "cell_type": "code",
   "execution_count": 9,
   "metadata": {},
   "outputs": [],
   "source": [
    "def copy_files_for_channel(df, channel_name, verbose=False):\n",
    "    print('\\nCopying files for {} images in channel: {}...'.format(df.shape[0], channel_name))\n",
    "    for i in range(df.shape[0]):\n",
    "        target_fname = df.iloc[i]['image_file_name']\n",
    "        if verbose:\n",
    "            print(target_fname)\n",
    "        !cp $cwd/$IMAGES_DIR/$target_fname $cwd/$CHANNEL_FOLDER/$channel_name/$target_fname"
   ]
  },
  {
   "cell_type": "code",
   "execution_count": 10,
   "metadata": {},
   "outputs": [
    {
     "name": "stdout",
     "output_type": "stream",
     "text": [
      "About to remove /root/sagemaker-workshop/pytorch-workshop/data\n"
     ]
    },
    {
     "name": "stdin",
     "output_type": "stream",
     "text": [
      "Are you sure you want to remove it and start fresh (yes/no)? yes\n"
     ]
    },
    {
     "name": "stdout",
     "output_type": "stream",
     "text": [
      "\n",
      "Copying files for 47 images in channel: validation...\n",
      "\n",
      "Copying files for 48 images in channel: test...\n",
      "\n",
      "Copying files for 142 images in channel: train...\n"
     ]
    }
   ],
   "source": [
    "if os.path.exists(CHANNEL_FOLDER):\n",
    "    print('About to remove {}/{}'.format(cwd, CHANNEL_FOLDER))\n",
    "    perform_delete = input('Are you sure you want to remove it and start fresh (yes/no)?')\n",
    "    if perform_delete == 'yes':\n",
    "        for ch in ['train', 'test', 'validation']:\n",
    "            !rm -i -rf $CHANNEL_FOLDER/$ch/*\n",
    "            !rm -i -rf $CHANNEL_FOLDER/$ch\n",
    "            !mkdir  $CHANNEL_FOLDER/$ch\n",
    "\n",
    "        for c in class_name_list:\n",
    "            !mkdir $CHANNEL_FOLDER/train/$c\n",
    "            !mkdir $CHANNEL_FOLDER/validation/$c\n",
    "            !mkdir $CHANNEL_FOLDER/test/$c\n",
    "            \n",
    "        copy_files_for_channel(val_df,   'validation')\n",
    "        copy_files_for_channel(test_df,  'test')\n",
    "        copy_files_for_channel(train_df, 'train')\n",
    "else:\n",
    "    print('Channel folder does not yet exist. Creating it and subfolders for each channel.')\n",
    "    os.mkdir(CHANNEL_FOLDER)\n",
    "    os.mkdir(CHANNEL_FOLDER + '/validation')\n",
    "    os.mkdir(CHANNEL_FOLDER + '/test')\n",
    "    os.mkdir(CHANNEL_FOLDER + '/train')\n",
    "    for c in class_name_list:\n",
    "        os.mkdir('{}/{}/{}'.format(CHANNEL_FOLDER, 'validation', c))\n",
    "        os.mkdir('{}/{}/{}'.format(CHANNEL_FOLDER, 'test', c))\n",
    "        os.mkdir('{}/{}/{}'.format(CHANNEL_FOLDER, 'train', c))\n",
    "    \n",
    "    copy_files_for_channel(val_df,   'validation')\n",
    "    copy_files_for_channel(test_df,  'test')\n",
    "    copy_files_for_channel(train_df, 'train')"
   ]
  },
  {
   "cell_type": "markdown",
   "metadata": {},
   "source": [
    "## Host the model with Model Monitoring data capture enabled"
   ]
  },
  {
   "cell_type": "markdown",
   "metadata": {},
   "source": [
    "Since our model is already trained, we can simply instantiate a SageMaker Estimator object based on the training job name."
   ]
  },
  {
   "cell_type": "code",
   "execution_count": 114,
   "metadata": {},
   "outputs": [],
   "source": [
    "import sagemaker\n",
    "from sagemaker.pytorch import PyTorch\n",
    "import logging\n",
    "\n",
    "FRAMEWORK_VERSION = '1.3.1'\n",
    "serve_instance_type  = 'ml.c5.4xlarge' #p3.2xlarge'"
   ]
  },
  {
   "cell_type": "code",
   "execution_count": 115,
   "metadata": {
    "scrolled": true
   },
   "outputs": [
    {
     "name": "stdout",
     "output_type": "stream",
     "text": [
      "2020-03-02 17:34:20 Starting - Preparing the instances for training\n",
      "2020-03-02 17:34:20 Downloading - Downloading input data\n",
      "2020-03-02 17:34:20 Training - Training image download completed. Training in progress.\n",
      "2020-03-02 17:34:20 Uploading - Uploading generated training model\n",
      "2020-03-02 17:34:20 Completed - Training job completed\u001b[34mbash: cannot set terminal process group (-1): Inappropriate ioctl for device\u001b[0m\n",
      "\u001b[34mbash: no job control in this shell\u001b[0m\n",
      "\u001b[34m2020-03-02 17:32:48,640 sagemaker-containers INFO     Imported framework sagemaker_pytorch_container.training\u001b[0m\n",
      "\u001b[34m2020-03-02 17:32:48,665 sagemaker_pytorch_container.training INFO     Block until all host DNS lookups succeed.\u001b[0m\n",
      "\u001b[34m2020-03-02 17:32:48,666 sagemaker_pytorch_container.training INFO     Invoking user training script.\u001b[0m\n",
      "\u001b[34m2020-03-02 17:32:48,931 sagemaker-containers INFO     Module default_user_module_name does not provide a setup.py. \u001b[0m\n",
      "\u001b[34mGenerating setup.py\u001b[0m\n",
      "\u001b[34m2020-03-02 17:32:48,932 sagemaker-containers INFO     Generating setup.cfg\u001b[0m\n",
      "\u001b[34m2020-03-02 17:32:48,932 sagemaker-containers INFO     Generating MANIFEST.in\u001b[0m\n",
      "\u001b[34m2020-03-02 17:32:48,932 sagemaker-containers INFO     Installing module with the following command:\u001b[0m\n",
      "\u001b[34m/opt/conda/bin/python -m pip install . \u001b[0m\n",
      "\u001b[34mProcessing /tmp/tmp_2_2fsxf/module_dir\u001b[0m\n",
      "\u001b[34mBuilding wheels for collected packages: default-user-module-name\n",
      "  Building wheel for default-user-module-name (setup.py): started\u001b[0m\n",
      "\u001b[34m  Building wheel for default-user-module-name (setup.py): finished with status 'done'\n",
      "  Created wheel for default-user-module-name: filename=default_user_module_name-1.0.0-py2.py3-none-any.whl size=12496 sha256=b5e93bbbaafc2aabcb29d7dd5767e3337e2ba5683b80da63355f9f1f45b68296\n",
      "  Stored in directory: /tmp/pip-ephem-wheel-cache-r1_g0fpp/wheels/1c/96/c5/3a3401afa70179dd5294d8c339f3644dbf566e331063a6373a\u001b[0m\n",
      "\u001b[34mSuccessfully built default-user-module-name\u001b[0m\n",
      "\u001b[34mInstalling collected packages: default-user-module-name\u001b[0m\n",
      "\u001b[34mSuccessfully installed default-user-module-name-1.0.0\u001b[0m\n",
      "\u001b[34mWARNING: You are using pip version 20.0.1; however, version 20.0.2 is available.\u001b[0m\n",
      "\u001b[34mYou should consider upgrading via the '/opt/conda/bin/python -m pip install --upgrade pip' command.\u001b[0m\n",
      "\u001b[34m2020-03-02 17:32:51,198 sagemaker-containers INFO     Invoking user script\n",
      "\u001b[0m\n",
      "\u001b[34mTraining Env:\n",
      "\u001b[0m\n",
      "\u001b[34m{\n",
      "    \"additional_framework_parameters\": {},\n",
      "    \"channel_input_dirs\": {\n",
      "        \"test\": \"/opt/ml/input/data/test\",\n",
      "        \"validation\": \"/opt/ml/input/data/validation\",\n",
      "        \"train\": \"/opt/ml/input/data/train\"\n",
      "    },\n",
      "    \"current_host\": \"algo-1\",\n",
      "    \"framework_module\": \"sagemaker_pytorch_container.training:main\",\n",
      "    \"hosts\": [\n",
      "        \"algo-1\"\n",
      "    ],\n",
      "    \"hyperparameters\": {\n",
      "        \"initial_epochs\": 25,\n",
      "        \"dropout\": 0.5,\n",
      "        \"backend\": \"gloo\",\n",
      "        \"data_dir\": \"/opt/ml/input/data\"\n",
      "    },\n",
      "    \"input_config_dir\": \"/opt/ml/input/config\",\n",
      "    \"input_data_config\": {\n",
      "        \"test\": {\n",
      "            \"TrainingInputMode\": \"File\",\n",
      "            \"S3DistributionType\": \"FullyReplicated\",\n",
      "            \"RecordWrapperType\": \"None\"\n",
      "        },\n",
      "        \"validation\": {\n",
      "            \"TrainingInputMode\": \"File\",\n",
      "            \"S3DistributionType\": \"FullyReplicated\",\n",
      "            \"RecordWrapperType\": \"None\"\n",
      "        },\n",
      "        \"train\": {\n",
      "            \"TrainingInputMode\": \"File\",\n",
      "            \"S3DistributionType\": \"FullyReplicated\",\n",
      "            \"RecordWrapperType\": \"None\"\n",
      "        }\n",
      "    },\n",
      "    \"input_dir\": \"/opt/ml/input\",\n",
      "    \"is_master\": true,\n",
      "    \"job_name\": \"pyt-ic-2020-03-02-17-28-52-529\",\n",
      "    \"log_level\": 20,\n",
      "    \"master_hostname\": \"algo-1\",\n",
      "    \"model_dir\": \"/opt/ml/model\",\n",
      "    \"module_dir\": \"s3://sagemaker-us-east-2-355151823911/pyt-ic-2020-03-02-17-28-52-529/source/sourcedir.tar.gz\",\n",
      "    \"module_name\": \"train-resnet\",\n",
      "    \"network_interface_name\": \"eth0\",\n",
      "    \"num_cpus\": 8,\n",
      "    \"num_gpus\": 1,\n",
      "    \"output_data_dir\": \"/opt/ml/output/data\",\n",
      "    \"output_dir\": \"/opt/ml/output\",\n",
      "    \"output_intermediate_dir\": \"/opt/ml/output/intermediate\",\n",
      "    \"resource_config\": {\n",
      "        \"current_host\": \"algo-1\",\n",
      "        \"hosts\": [\n",
      "            \"algo-1\"\n",
      "        ],\n",
      "        \"network_interface_name\": \"eth0\"\n",
      "    },\n",
      "    \"user_entry_point\": \"train-resnet.py\"\u001b[0m\n",
      "\u001b[34m}\n",
      "\u001b[0m\n",
      "\u001b[34mEnvironment variables:\n",
      "\u001b[0m\n",
      "\u001b[34mSM_HOSTS=[\"algo-1\"]\u001b[0m\n",
      "\u001b[34mSM_NETWORK_INTERFACE_NAME=eth0\u001b[0m\n",
      "\u001b[34mSM_HPS={\"backend\":\"gloo\",\"data_dir\":\"/opt/ml/input/data\",\"dropout\":0.5,\"initial_epochs\":25}\u001b[0m\n",
      "\u001b[34mSM_USER_ENTRY_POINT=train-resnet.py\u001b[0m\n",
      "\u001b[34mSM_FRAMEWORK_PARAMS={}\u001b[0m\n",
      "\u001b[34mSM_RESOURCE_CONFIG={\"current_host\":\"algo-1\",\"hosts\":[\"algo-1\"],\"network_interface_name\":\"eth0\"}\u001b[0m\n",
      "\u001b[34mSM_INPUT_DATA_CONFIG={\"test\":{\"RecordWrapperType\":\"None\",\"S3DistributionType\":\"FullyReplicated\",\"TrainingInputMode\":\"File\"},\"train\":{\"RecordWrapperType\":\"None\",\"S3DistributionType\":\"FullyReplicated\",\"TrainingInputMode\":\"File\"},\"validation\":{\"RecordWrapperType\":\"None\",\"S3DistributionType\":\"FullyReplicated\",\"TrainingInputMode\":\"File\"}}\u001b[0m\n",
      "\u001b[34mSM_OUTPUT_DATA_DIR=/opt/ml/output/data\u001b[0m\n",
      "\u001b[34mSM_CHANNELS=[\"test\",\"train\",\"validation\"]\u001b[0m\n",
      "\u001b[34mSM_CURRENT_HOST=algo-1\u001b[0m\n",
      "\u001b[34mSM_MODULE_NAME=train-resnet\u001b[0m\n",
      "\u001b[34mSM_LOG_LEVEL=20\u001b[0m\n",
      "\u001b[34mSM_FRAMEWORK_MODULE=sagemaker_pytorch_container.training:main\u001b[0m\n",
      "\u001b[34mSM_INPUT_DIR=/opt/ml/input\u001b[0m\n",
      "\u001b[34mSM_INPUT_CONFIG_DIR=/opt/ml/input/config\u001b[0m\n",
      "\u001b[34mSM_OUTPUT_DIR=/opt/ml/output\u001b[0m\n",
      "\u001b[34mSM_NUM_CPUS=8\u001b[0m\n",
      "\u001b[34mSM_NUM_GPUS=1\u001b[0m\n",
      "\u001b[34mSM_MODEL_DIR=/opt/ml/model\u001b[0m\n",
      "\u001b[34mSM_MODULE_DIR=s3://sagemaker-us-east-2-355151823911/pyt-ic-2020-03-02-17-28-52-529/source/sourcedir.tar.gz\u001b[0m\n",
      "\u001b[34mSM_TRAINING_ENV={\"additional_framework_parameters\":{},\"channel_input_dirs\":{\"test\":\"/opt/ml/input/data/test\",\"train\":\"/opt/ml/input/data/train\",\"validation\":\"/opt/ml/input/data/validation\"},\"current_host\":\"algo-1\",\"framework_module\":\"sagemaker_pytorch_container.training:main\",\"hosts\":[\"algo-1\"],\"hyperparameters\":{\"backend\":\"gloo\",\"data_dir\":\"/opt/ml/input/data\",\"dropout\":0.5,\"initial_epochs\":25},\"input_config_dir\":\"/opt/ml/input/config\",\"input_data_config\":{\"test\":{\"RecordWrapperType\":\"None\",\"S3DistributionType\":\"FullyReplicated\",\"TrainingInputMode\":\"File\"},\"train\":{\"RecordWrapperType\":\"None\",\"S3DistributionType\":\"FullyReplicated\",\"TrainingInputMode\":\"File\"},\"validation\":{\"RecordWrapperType\":\"None\",\"S3DistributionType\":\"FullyReplicated\",\"TrainingInputMode\":\"File\"}},\"input_dir\":\"/opt/ml/input\",\"is_master\":true,\"job_name\":\"pyt-ic-2020-03-02-17-28-52-529\",\"log_level\":20,\"master_hostname\":\"algo-1\",\"model_dir\":\"/opt/ml/model\",\"module_dir\":\"s3://sagemaker-us-east-2-355151823911/pyt-ic-2020-03-02-17-28-52-529/source/sourcedir.tar.gz\",\"module_name\":\"train-resnet\",\"network_interface_name\":\"eth0\",\"num_cpus\":8,\"num_gpus\":1,\"output_data_dir\":\"/opt/ml/output/data\",\"output_dir\":\"/opt/ml/output\",\"output_intermediate_dir\":\"/opt/ml/output/intermediate\",\"resource_config\":{\"current_host\":\"algo-1\",\"hosts\":[\"algo-1\"],\"network_interface_name\":\"eth0\"},\"user_entry_point\":\"train-resnet.py\"}\u001b[0m\n",
      "\u001b[34mSM_USER_ARGS=[\"--backend\",\"gloo\",\"--data_dir\",\"/opt/ml/input/data\",\"--dropout\",\"0.5\",\"--initial_epochs\",\"25\"]\u001b[0m\n",
      "\u001b[34mSM_OUTPUT_INTERMEDIATE_DIR=/opt/ml/output/intermediate\u001b[0m\n",
      "\u001b[34mSM_CHANNEL_TEST=/opt/ml/input/data/test\u001b[0m\n",
      "\u001b[34mSM_CHANNEL_VALIDATION=/opt/ml/input/data/validation\u001b[0m\n",
      "\u001b[34mSM_CHANNEL_TRAIN=/opt/ml/input/data/train\u001b[0m\n",
      "\u001b[34mSM_HP_INITIAL_EPOCHS=25\u001b[0m\n",
      "\u001b[34mSM_HP_DROPOUT=0.5\u001b[0m\n",
      "\u001b[34mSM_HP_BACKEND=gloo\u001b[0m\n",
      "\u001b[34mSM_HP_DATA_DIR=/opt/ml/input/data\u001b[0m\n",
      "\u001b[34mPYTHONPATH=/opt/ml/code:/opt/conda/bin:/opt/conda/lib/python36.zip:/opt/conda/lib/python3.6:/opt/conda/lib/python3.6/lib-dynload:/opt/conda/lib/python3.6/site-packages\n",
      "\u001b[0m\n",
      "\u001b[34mInvoking script with the following command:\n",
      "\u001b[0m\n",
      "\u001b[34m/opt/conda/bin/python train-resnet.py --backend gloo --data_dir /opt/ml/input/data --dropout 0.5 --initial_epochs 25\n",
      "\n",
      "\u001b[0m\n",
      "\u001b[34mPyTorch version: 1.3.1\u001b[0m\n",
      "\u001b[34mDownloading: \"https://download.pytorch.org/models/resnet50-19c8e357.pth\" to /root/.cache/torch/checkpoints/resnet50-19c8e357.pth\u001b[0m\n",
      "\u001b[34mTime at entry to top of training script: 1583170372.8440826\u001b[0m\n",
      "\u001b[34mNumber of classes for this model: 4\n",
      "\u001b[0m\n",
      "\u001b[34mTime at __main__: 1583170372.8441172, lost time: 3.457069396972656e-05 seconds.\u001b[0m\n",
      "\u001b[34margs: Namespace(backend='gloo', batch_size=16, current_host='algo-1', dropout=0.5, fine_tuning_epochs=30, fine_tuning_lr=1e-05, hosts=['algo-1'], initial_epochs=25, initial_lr=0.0001, model_dir='/opt/ml/model', num_fully_connected_layers=1, num_gpus=1, test='/opt/ml/input/data/test', train='/opt/ml/input/data/train', validation='/opt/ml/input/data/validation')\n",
      "\u001b[0m\n",
      "\u001b[34mNumber of images already in training channel at start: 142\n",
      "\u001b[0m\n",
      "\u001b[34mNumber of images already in test     channel at start: 48\u001b[0m\n",
      "\u001b[34mDistributed training - False\u001b[0m\n",
      "\u001b[34mNumber of gpus available - 1\u001b[0m\n",
      "\u001b[34mUsing device: cuda\u001b[0m\n",
      "\u001b[34mHost rank is 0. Number of gpus: 1\u001b[0m\n",
      "\u001b[34mWill process 142/142 (100%) of train data\u001b[0m\n",
      "\u001b[34mWill process 47/47 (100%) of test data\n",
      "\u001b[0m\n",
      "\u001b[34mTime to download resnet and replace final layers: 7.09605073928833 seconds.\u001b[0m\n",
      "\u001b[34mEpoch 1/25.. Train loss: 1.408.. Test loss: 1.347.. Test accuracy: 0.299\u001b[0m\n",
      "\u001b[34mEpoch 1/25.. Train loss: 1.381.. Test loss: 1.295.. Test accuracy: 0.422\u001b[0m\n",
      "\u001b[34mEpoch 1/25.. Train loss: 1.295.. Test loss: 1.256.. Test accuracy: 0.682\u001b[0m\n",
      "\u001b[34mEpoch 2/25.. Train loss: 1.252.. Test loss: 1.217.. Test accuracy: 0.725\u001b[0m\n",
      "\u001b[34mEpoch 2/25.. Train loss: 1.213.. Test loss: 1.177.. Test accuracy: 0.789\u001b[0m\n",
      "\u001b[34mEpoch 2/25.. Train loss: 1.235.. Test loss: 1.143.. Test accuracy: 0.831\u001b[0m\n",
      "\u001b[34mEpoch 3/25.. Train loss: 1.124.. Test loss: 1.112.. Test accuracy: 0.786\u001b[0m\n",
      "\u001b[34mEpoch 3/25.. Train loss: 1.133.. Test loss: 1.079.. Test accuracy: 0.851\u001b[0m\n",
      "\u001b[34mEpoch 3/25.. Train loss: 1.136.. Test loss: 1.043.. Test accuracy: 0.935\u001b[0m\n",
      "\u001b[34mEpoch 4/25.. Train loss: 1.048.. Test loss: 1.016.. Test accuracy: 0.935\u001b[0m\n",
      "\u001b[34mEpoch 4/25.. Train loss: 1.086.. Test loss: 0.986.. Test accuracy: 0.917\u001b[0m\n",
      "\u001b[34mEpoch 4/25.. Train loss: 1.019.. Test loss: 0.949.. Test accuracy: 0.914\u001b[0m\n",
      "\u001b[34mEpoch 5/25.. Train loss: 0.980.. Test loss: 0.913.. Test accuracy: 1.000\u001b[0m\n",
      "\u001b[34mEpoch 5/25.. Train loss: 0.949.. Test loss: 0.882.. Test accuracy: 0.958\u001b[0m\n",
      "\u001b[34mEpoch 5/25.. Train loss: 0.931.. Test loss: 0.859.. Test accuracy: 0.958\u001b[0m\n",
      "\u001b[34mEpoch 6/25.. Train loss: 0.850.. Test loss: 0.831.. Test accuracy: 0.957\u001b[0m\n",
      "\u001b[34mEpoch 6/25.. Train loss: 0.887.. Test loss: 0.804.. Test accuracy: 0.956\u001b[0m\n",
      "\u001b[34mEpoch 6/25.. Train loss: 0.829.. Test loss: 0.770.. Test accuracy: 1.000\u001b[0m\n",
      "\u001b[34mEpoch 7/25.. Train loss: 0.797.. Test loss: 0.743.. Test accuracy: 1.000\u001b[0m\n",
      "\u001b[34mEpoch 7/25.. Train loss: 0.805.. Test loss: 0.722.. Test accuracy: 1.000\u001b[0m\n",
      "\u001b[34mEpoch 7/25.. Train loss: 0.754.. Test loss: 0.698.. Test accuracy: 1.000\u001b[0m\n",
      "\u001b[34mEpoch 8/25.. Train loss: 0.686.. Test loss: 0.672.. Test accuracy: 1.000\u001b[0m\n",
      "\u001b[34mEpoch 8/25.. Train loss: 0.713.. Test loss: 0.644.. Test accuracy: 1.000\u001b[0m\n",
      "\u001b[34mEpoch 8/25.. Train loss: 0.654.. Test loss: 0.625.. Test accuracy: 1.000\u001b[0m\n",
      "\u001b[34mEpoch 9/25.. Train loss: 0.681.. Test loss: 0.607.. Test accuracy: 1.000\u001b[0m\n",
      "\u001b[34mEpoch 9/25.. Train loss: 0.727.. Test loss: 0.599.. Test accuracy: 1.000\u001b[0m\n",
      "\u001b[34mEpoch 9/25.. Train loss: 0.683.. Test loss: 0.566.. Test accuracy: 1.000\u001b[0m\n",
      "\u001b[34mEpoch 10/25.. Train loss: 0.585.. Test loss: 0.543.. Test accuracy: 1.000\u001b[0m\n",
      "\u001b[34mEpoch 10/25.. Train loss: 0.613.. Test loss: 0.532.. Test accuracy: 1.000\u001b[0m\n",
      "\u001b[34mEpoch 10/25.. Train loss: 0.537.. Test loss: 0.519.. Test accuracy: 1.000\u001b[0m\n",
      "\u001b[34mEpoch 11/25.. Train loss: 0.579.. Test loss: 0.497.. Test accuracy: 1.000\u001b[0m\n",
      "\u001b[34mEpoch 11/25.. Train loss: 0.534.. Test loss: 0.486.. Test accuracy: 0.979\u001b[0m\n",
      "\u001b[34mEpoch 11/25.. Train loss: 0.547.. Test loss: 0.471.. Test accuracy: 0.978\u001b[0m\n",
      "\u001b[34mEpoch 12/25.. Train loss: 0.439.. Test loss: 0.451.. Test accuracy: 1.000\u001b[0m\n",
      "\u001b[34mEpoch 12/25.. Train loss: 0.497.. Test loss: 0.439.. Test accuracy: 1.000\u001b[0m\n",
      "\u001b[34mEpoch 12/25.. Train loss: 0.526.. Test loss: 0.431.. Test accuracy: 1.000\u001b[0m\n",
      "\u001b[34mEpoch 13/25.. Train loss: 0.482.. Test loss: 0.420.. Test accuracy: 1.000\u001b[0m\n",
      "\u001b[34mEpoch 13/25.. Train loss: 0.501.. Test loss: 0.402.. Test accuracy: 1.000\u001b[0m\n",
      "\u001b[34mEpoch 13/25.. Train loss: 0.411.. Test loss: 0.390.. Test accuracy: 1.000\u001b[0m\n",
      "\u001b[34mEpoch 14/25.. Train loss: 0.393.. Test loss: 0.379.. Test accuracy: 1.000\u001b[0m\n",
      "\u001b[34mEpoch 14/25.. Train loss: 0.529.. Test loss: 0.367.. Test accuracy: 1.000\u001b[0m\n",
      "\u001b[34mEpoch 14/25.. Train loss: 0.322.. Test loss: 0.359.. Test accuracy: 1.000\u001b[0m\n",
      "\u001b[34mEpoch 15/25.. Train loss: 0.369.. Test loss: 0.357.. Test accuracy: 1.000\u001b[0m\n",
      "\u001b[34mEpoch 15/25.. Train loss: 0.424.. Test loss: 0.357.. Test accuracy: 1.000\u001b[0m\n",
      "\u001b[34mEpoch 15/25.. Train loss: 0.437.. Test loss: 0.347.. Test accuracy: 1.000\u001b[0m\n",
      "\u001b[34mEpoch 16/25.. Train loss: 0.404.. Test loss: 0.333.. Test accuracy: 1.000\u001b[0m\n",
      "\u001b[34mEpoch 16/25.. Train loss: 0.438.. Test loss: 0.330.. Test accuracy: 1.000\u001b[0m\n",
      "\u001b[34mEpoch 16/25.. Train loss: 0.339.. Test loss: 0.315.. Test accuracy: 1.000\u001b[0m\n",
      "\u001b[34mEpoch 17/25.. Train loss: 0.379.. Test loss: 0.303.. Test accuracy: 1.000\u001b[0m\n",
      "\u001b[34mEpoch 17/25.. Train loss: 0.332.. Test loss: 0.303.. Test accuracy: 1.000\u001b[0m\n",
      "\u001b[34mEpoch 17/25.. Train loss: 0.326.. Test loss: 0.296.. Test accuracy: 1.000\u001b[0m\n",
      "\u001b[34mEpoch 18/25.. Train loss: 0.354.. Test loss: 0.291.. Test accuracy: 1.000\u001b[0m\n",
      "\u001b[34mEpoch 18/25.. Train loss: 0.313.. Test loss: 0.282.. Test accuracy: 1.000\u001b[0m\n",
      "\u001b[34mEpoch 18/25.. Train loss: 0.397.. Test loss: 0.284.. Test accuracy: 1.000\u001b[0m\n",
      "\u001b[34mEpoch 19/25.. Train loss: 0.323.. Test loss: 0.280.. Test accuracy: 1.000\u001b[0m\n",
      "\u001b[34mEpoch 19/25.. Train loss: 0.294.. Test loss: 0.271.. Test accuracy: 1.000\u001b[0m\n",
      "\u001b[34mEpoch 19/25.. Train loss: 0.344.. Test loss: 0.267.. Test accuracy: 1.000\u001b[0m\n",
      "\u001b[34mEpoch 20/25.. Train loss: 0.249.. Test loss: 0.253.. Test accuracy: 1.000\u001b[0m\n",
      "\u001b[34mEpoch 20/25.. Train loss: 0.269.. Test loss: 0.249.. Test accuracy: 1.000\u001b[0m\n",
      "\u001b[34mEpoch 20/25.. Train loss: 0.283.. Test loss: 0.246.. Test accuracy: 1.000\u001b[0m\n",
      "\u001b[34mEpoch 21/25.. Train loss: 0.300.. Test loss: 0.238.. Test accuracy: 1.000\u001b[0m\n",
      "\u001b[34mEpoch 21/25.. Train loss: 0.304.. Test loss: 0.240.. Test accuracy: 1.000\u001b[0m\n",
      "\u001b[34mEpoch 21/25.. Train loss: 0.330.. Test loss: 0.229.. Test accuracy: 1.000\u001b[0m\n",
      "\u001b[34mEpoch 22/25.. Train loss: 0.211.. Test loss: 0.226.. Test accuracy: 1.000\u001b[0m\n",
      "\u001b[34mEpoch 22/25.. Train loss: 0.319.. Test loss: 0.235.. Test accuracy: 1.000\u001b[0m\n",
      "\u001b[34mEpoch 22/25.. Train loss: 0.275.. Test loss: 0.228.. Test accuracy: 1.000\u001b[0m\n",
      "\u001b[34mEpoch 23/25.. Train loss: 0.192.. Test loss: 0.217.. Test accuracy: 1.000\u001b[0m\n",
      "\u001b[34mEpoch 23/25.. Train loss: 0.327.. Test loss: 0.212.. Test accuracy: 1.000\u001b[0m\n",
      "\u001b[34mEpoch 23/25.. Train loss: 0.210.. Test loss: 0.215.. Test accuracy: 1.000\u001b[0m\n",
      "\u001b[34mEpoch 24/25.. Train loss: 0.225.. Test loss: 0.207.. Test accuracy: 1.000\u001b[0m\n",
      "\u001b[34mEpoch 24/25.. Train loss: 0.241.. Test loss: 0.204.. Test accuracy: 1.000\u001b[0m\n",
      "\u001b[34mEpoch 24/25.. Train loss: 0.286.. Test loss: 0.202.. Test accuracy: 1.000\u001b[0m\n",
      "\u001b[34mEpoch 25/25.. Train loss: 0.267.. Test loss: 0.201.. Test accuracy: 1.000\u001b[0m\n",
      "\u001b[34mEpoch 25/25.. Train loss: 0.315.. Test loss: 0.196.. Test accuracy: 1.000\u001b[0m\n",
      "\u001b[34mEpoch 25/25.. Train loss: 0.294.. Test loss: 0.192.. Test accuracy: 1.000\n",
      "\u001b[0m\n",
      "\u001b[34mCompleted training.\n",
      "\u001b[0m\n",
      "\u001b[34mSaving model to /opt/ml/model/model.pth...\u001b[0m\n",
      "\u001b[34mModel directory files AFTER save: ['/opt/ml/model/model.pth']\n",
      "\u001b[0m\n",
      "\u001b[34mExiting training script.\u001b[0m\n",
      "\u001b[34m2020-03-02 17:34:01,141 sagemaker-containers INFO     Reporting training SUCCESS\u001b[0m\n",
      "Training seconds: 204\n",
      "Billable seconds: 204\n"
     ]
    }
   ],
   "source": [
    "from sagemaker.estimator import Estimator\n",
    "estimator = Estimator.attach(training_job_name)"
   ]
  },
  {
   "cell_type": "markdown",
   "metadata": {},
   "source": [
    "Feel free to change parameters as you would like - adjust sampling percentage, and whether to include requests, responses, or both. \n",
    "Learn more from our [documentation](https://docs.aws.amazon.com/sagemaker/latest/dg/model-monitor.html)."
   ]
  },
  {
   "cell_type": "code",
   "execution_count": 116,
   "metadata": {},
   "outputs": [],
   "source": [
    "from sagemaker.model_monitor import DataCaptureConfig\n",
    "from sagemaker import RealTimePredictor\n",
    "from sagemaker import session\n",
    "import boto3\n",
    "\n",
    "data_capture_config = DataCaptureConfig(\n",
    "                        enable_capture = True,\n",
    "                        sampling_percentage=100,\n",
    "                        destination_s3_uri=s3_capture_upload_path,\n",
    "                        kms_key_id=None,\n",
    "                        capture_options=['RESPONSE', 'REQUEST'])"
   ]
  },
  {
   "cell_type": "code",
   "execution_count": 117,
   "metadata": {},
   "outputs": [
    {
     "name": "stderr",
     "output_type": "stream",
     "text": [
      "Using already existing model: pyt-ic-2020-03-02-17-28-52-529\n"
     ]
    },
    {
     "name": "stdout",
     "output_type": "stream",
     "text": [
      "-------------!"
     ]
    }
   ],
   "source": [
    "predictor = estimator.deploy(initial_instance_count=1, \n",
    "                             instance_type=serve_instance_type,\n",
    "                             data_capture_config=data_capture_config)"
   ]
  },
  {
   "cell_type": "markdown",
   "metadata": {},
   "source": [
    "## Send predictions to the model"
   ]
  },
  {
   "cell_type": "code",
   "execution_count": null,
   "metadata": {},
   "outputs": [],
   "source": [
    "# If using an endpoint that was already in service, you can establish a predictor object using the following code.\n",
    "#\n",
    "#from sagemaker import RealTimePredictor\n",
    "#predictor = RealTimePredictor(endpoint='tensorflow-inference-2020-02-14-12-36-15-896') #<put-endpoint-name-here>')"
   ]
  },
  {
   "cell_type": "markdown",
   "metadata": {},
   "source": [
    "### Predicting using the SageMaker PyTorch endpoint"
   ]
  },
  {
   "cell_type": "code",
   "execution_count": 119,
   "metadata": {},
   "outputs": [],
   "source": [
    "from PIL import Image\n",
    "import io, time\n",
    "import numpy as np\n",
    "from sagemaker.predictor import json_serializer, json_deserializer\n",
    "\n",
    "def predict_bird_from_file(fn, verbose=True):\n",
    "    pil_img = Image.open(fn)\n",
    "    buf = io.BytesIO()\n",
    "    pil_img.save(buf, format='JPEG')\n",
    "    byte_im = buf.getvalue()\n",
    "\n",
    "    start_time = time.time()\n",
    "    \n",
    "    predictor.content_type = 'application/x-image'\n",
    "    predictor.serializer   = None\n",
    "    predictor.deserializer = json_deserializer\n",
    "    \n",
    "    result = predictor.predict(byte_im)\n",
    "    \n",
    "    if verbose:\n",
    "        print('...took {:.2f} seconds'.format(time.time() - start_time))\n",
    "        predicted_class_idx = np.argmax(result)\n",
    "        predicted_class = class_name_list[predicted_class_idx]\n",
    "        confidence = result[predicted_class_idx]\n",
    "        display(Image.open(fn).resize((224, 224)))\n",
    "        print(f'Class: {predicted_class}, confidence: {confidence:.2f}')\n",
    "    del pil_img\n",
    "    return result"
   ]
  },
  {
   "cell_type": "code",
   "execution_count": 120,
   "metadata": {},
   "outputs": [],
   "source": [
    "#predict_bird_from_file('northern-cardinal-1.jpg')"
   ]
  },
  {
   "cell_type": "code",
   "execution_count": 121,
   "metadata": {},
   "outputs": [],
   "source": [
    "# Iterate through entire dataframe, tracking predictions and accuracy. For mistakes, show the image, \n",
    "# and the predicted and actual classes to help understand\n",
    "# where the model may need additional tuning.\n",
    "\n",
    "def test_image_df(df, verbose=True):\n",
    "    print('Testing {} images'.format(df.shape[0]))\n",
    "    num_errors = 0\n",
    "    preds = []\n",
    "    acts  = []\n",
    "    for i in range(df.shape[0]):\n",
    "        fname = df.iloc[i]['image_file_name']\n",
    "        act   = int(df.iloc[i]['class_id']) - 1\n",
    "        acts.append(act)\n",
    "        prediction_list = predict_bird_from_file(IMAGES_DIR + '/' + fname, verbose=False)\n",
    "        pred = np.argmax(prediction_list)\n",
    "        conf = prediction_list[pred]\n",
    "        preds.append(pred)\n",
    "        if (pred != act):\n",
    "            num_errors += 1\n",
    "            print('ERROR on image index {} -- Pred: {} {:.2f}, Actual: {}'.format(i, \n",
    "                                                                   class_name_list[pred], conf, \n",
    "                                                                   class_name_list[act]))\n",
    "            if verbose:\n",
    "                print(f'    {prediction_list}')\n",
    "                display(Image.open(IMAGES_DIR + '/' + fname))\n",
    "    return num_errors, preds, acts"
   ]
  },
  {
   "cell_type": "code",
   "execution_count": 122,
   "metadata": {},
   "outputs": [],
   "source": [
    "import time\n",
    "\n",
    "def hit_endpoint_with_load(rough_num_predictions):\n",
    "    num_val_images = val_df.shape[0]\n",
    "    times_through_dataset = round(rough_num_predictions / num_val_images)\n",
    "    print(f'running through val dataset {times_through_dataset} times...\\n')\n",
    "    start_time = time.time()\n",
    "    for i in range(times_through_dataset):\n",
    "        num_errors, preds, acts = test_image_df(val_df, verbose=False)\n",
    "        print('\\nAccuracy: {:.2f}, {}/{}\\n'.format(1 - (num_errors/num_val_images), \n",
    "                                                   num_val_images - num_errors, num_val_images))\n",
    "    num_predictions = times_through_dataset * num_val_images\n",
    "    elapsed_wall_time = time.time() - start_time\n",
    "    print(f'\\nTook {elapsed_wall_time} seconds to predict on {num_predictions} images')\n",
    "    print('{:.1f} ms/image.\\n'.format(elapsed_wall_time / num_predictions * 1000))"
   ]
  },
  {
   "cell_type": "markdown",
   "metadata": {},
   "source": [
    "Here we loop through the validation images enough times to generate the number of prediction requests you want to send to the endpoint."
   ]
  },
  {
   "cell_type": "code",
   "execution_count": 123,
   "metadata": {},
   "outputs": [
    {
     "name": "stdout",
     "output_type": "stream",
     "text": [
      "running through val dataset 2 times...\n",
      "\n",
      "Testing 47 images\n",
      "\n",
      "Accuracy: 1.00, 47/47\n",
      "\n",
      "Testing 47 images\n",
      "\n",
      "Accuracy: 1.00, 47/47\n",
      "\n",
      "\n",
      "Took 17.279478311538696 seconds to predict on 94 images\n",
      "183.8 ms/image.\n",
      "\n",
      "CPU times: user 1.92 s, sys: 27.9 ms, total: 1.95 s\n",
      "Wall time: 17.3 s\n"
     ]
    }
   ],
   "source": [
    "%%time\n",
    "hit_endpoint_with_load(100)"
   ]
  },
  {
   "cell_type": "markdown",
   "metadata": {},
   "source": [
    "## View the data captured by Model Monitor"
   ]
  },
  {
   "cell_type": "code",
   "execution_count": 130,
   "metadata": {},
   "outputs": [
    {
     "name": "stdout",
     "output_type": "stream",
     "text": [
      "Found 3 data capture files\n",
      "['s3://sagemaker-us-east-2-355151823911/DEMO-PYT-image-classification-birds/endpoint-data-capture/pyt-ic-2020-03-02-17-28-52-529/AllTraffic/2020/03/02/21/14-42-833-57bd2ff2-f53d-4f33-9440-26d9c8f735b9.jsonl', 's3://sagemaker-us-east-2-355151823911/DEMO-PYT-image-classification-birds/endpoint-data-capture/pyt-ic-2020-03-02-17-28-52-529/AllTraffic/2020/03/02/21/34-02-151-f3ae1000-e2b2-48fb-a813-5646719a5fd7.jsonl', 's3://sagemaker-us-east-2-355151823911/DEMO-PYT-image-classification-birds/endpoint-data-capture/pyt-ic-2020-03-02-17-28-52-529/AllTraffic/2020/03/04/17/34-52-445-9305eddd-46b7-4e35-be05-5dfbc7e1d1e8.jsonl']\n"
     ]
    }
   ],
   "source": [
    "from sagemaker.s3 import S3Downloader\n",
    "\n",
    "# Get a list of S3 URIs\n",
    "capture_file_list = S3Downloader.list(s3_capture_upload_path)\n",
    "print(f'Found {len(capture_file_list)} data capture files\\n{capture_file_list}')"
   ]
  },
  {
   "cell_type": "markdown",
   "metadata": {},
   "source": [
    "Download the most recent json lines file, and examine what was captured."
   ]
  },
  {
   "cell_type": "code",
   "execution_count": 132,
   "metadata": {},
   "outputs": [],
   "source": [
    "captured_data_as_str = S3Downloader.read_file(capture_file_list[-1])"
   ]
  },
  {
   "cell_type": "code",
   "execution_count": 133,
   "metadata": {},
   "outputs": [
    {
     "name": "stdout",
     "output_type": "stream",
     "text": [
      "Requirement already satisfied: jsonlines in /opt/conda/lib/python3.6/site-packages (1.2.0)\n",
      "Requirement already satisfied: six in /opt/conda/lib/python3.6/site-packages (from jsonlines) (1.12.0)\n",
      "\u001b[33mWARNING: You are using pip version 19.3; however, version 20.0.2 is available.\n",
      "You should consider upgrading via the 'pip install --upgrade pip' command.\u001b[0m\n"
     ]
    }
   ],
   "source": [
    "!pip install jsonlines"
   ]
  },
  {
   "cell_type": "code",
   "execution_count": 135,
   "metadata": {},
   "outputs": [],
   "source": [
    "import jsonlines\n",
    "import io\n",
    "import base64"
   ]
  },
  {
   "cell_type": "markdown",
   "metadata": {},
   "source": [
    "Read the first two requests that were captured."
   ]
  },
  {
   "cell_type": "code",
   "execution_count": 69,
   "metadata": {},
   "outputs": [],
   "source": [
    "fp = io.BytesIO(captured_data_as_str.encode('utf-8'))\n",
    "reader = jsonlines.Reader(fp)\n",
    "first = reader.read()\n",
    "second = reader.read()\n",
    "reader.close()\n",
    "fp.close()"
   ]
  },
  {
   "cell_type": "markdown",
   "metadata": {},
   "source": [
    "Display the image that was sent. Model Monitor captures it with base64 encoding, so here we turn that back into an image and display it."
   ]
  },
  {
   "cell_type": "code",
   "execution_count": 136,
   "metadata": {},
   "outputs": [],
   "source": [
    "img_bytes = base64.decodebytes(second['captureData']['endpointInput']['data'].encode('utf-8'))"
   ]
  },
  {
   "cell_type": "code",
   "execution_count": 137,
   "metadata": {},
   "outputs": [
    {
     "data": {
      "image/png": "[encoded data removed]",
      "text/plain": [
       "<PIL.Image.Image image mode=RGB size=224x224 at 0x7F41083DE940>"
      ]
     },
     "metadata": {},
     "output_type": "display_data"
    }
   ],
   "source": [
    "stream = io.BytesIO(img_bytes)\n",
    "img = Image.open(stream)\n",
    "img = img.resize((224, 224))\n",
    "display(img)"
   ]
  },
  {
   "cell_type": "markdown",
   "metadata": {},
   "source": [
    "Display the prediction that was made by the model at that time for that image. Here we show the confidence levels provided for each class."
   ]
  },
  {
   "cell_type": "code",
   "execution_count": 139,
   "metadata": {},
   "outputs": [
    {
     "data": {
      "text/plain": [
       "[0.010412400588393211,\n",
       " 0.04694483429193497,\n",
       " 0.9185089468955994,\n",
       " 0.024133814498782158]"
      ]
     },
     "execution_count": 139,
     "metadata": {},
     "output_type": "execute_result"
    }
   ],
   "source": [
    "predictions_str = second['captureData']['endpointOutput']['data']\n",
    "predictions = json.loads(predictions_str)\n",
    "predictions"
   ]
  },
  {
   "cell_type": "markdown",
   "metadata": {},
   "source": [
    "Here we show the name of the class with the highest confidence level."
   ]
  },
  {
   "cell_type": "code",
   "execution_count": 140,
   "metadata": {},
   "outputs": [
    {
     "data": {
      "text/plain": [
       "'035.Purple_Finch'"
      ]
     },
     "execution_count": 140,
     "metadata": {},
     "output_type": "execute_result"
    }
   ],
   "source": [
    "class_name_list[np.argmax(predictions)]"
   ]
  },
  {
   "cell_type": "markdown",
   "metadata": {},
   "source": [
    "## Clean up\n",
    "Finally, and importantly, to avoid being billed for an idle endpoint, here we delete the SageMaker endpoint."
   ]
  },
  {
   "cell_type": "code",
   "execution_count": 71,
   "metadata": {},
   "outputs": [],
   "source": [
    "predictor.delete_endpoint()"
   ]
  },
  {
   "cell_type": "markdown",
   "metadata": {},
   "source": [
    "## Possible extensions for model monitoring of computer vision workloads\n",
    "- Replay mechanism to test new versions of models to compare results from PROD with old model\n",
    "- Feed Amazon SageMaker A2I to get a human in the loop for the set of predictions that fell below an acceptable confidence level\n",
    "- Feed Amazon SageMaker Ground Truth samples of prod input images to continually keep training datasets fresh with real world samples; focus could be on crowd sourcing predictions for those images the model struggled with\n",
    "- Feed dashboard of distribution of predicted classes\n",
    "- Feed dashboard of confidence levels, show the p90 confidence level and alert if it falls below a threshold\n",
    "- Create training dataset automatically in new s3 bucket, with a folder for each class, and filenames with confidence level and timestamp\n",
    "- Create histogram of confidence levels for each class to see which classes are most in need of model improvement\n",
    "- Closed loop with SageMaker Ground Truth to have near real time confusion matrix"
   ]
  },
  {
   "cell_type": "code",
   "execution_count": null,
   "metadata": {},
   "outputs": [],
   "source": []
  }
 ],
 "metadata": {
  "kernelspec": {
   "display_name": "Python 3 (PyTorch CPU Optimized)",
   "language": "python",
   "name": "python3__SAGEMAKER_INTERNAL__arn:aws:sagemaker:us-east-2:429704687514:environment/pytorch-cpu-optimized"
  },
  "language_info": {
   "codemirror_mode": {
    "name": "ipython",
    "version": 3
   },
   "file_extension": ".py",
   "mimetype": "text/x-python",
   "name": "python",
   "nbconvert_exporter": "python",
   "pygments_lexer": "ipython3",
   "version": "3.6.6"
  }
 },
 "nbformat": 4,
 "nbformat_minor": 4
}
