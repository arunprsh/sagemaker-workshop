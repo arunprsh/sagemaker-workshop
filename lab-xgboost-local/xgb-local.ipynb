{
 "cells": [
  {
   "cell_type": "markdown",
   "metadata": {},
   "source": [
    "# Use Amazon SageMaker XGBoost model locally\n",
    "Amazon SageMaker provides a built-in implementation of the open source XGBoost algorithm\n",
    "for a wide variety of regression and classification problems with the following benefits:\n",
    "\n",
    "- SageMaker's training service provides scalable distributed XGBoost training on large scale datasets without having to manage your own infrastructure.\n",
    "- SageMaker's automatic model tuning of XGBoost models can efficiently determine the best set of hyperparameters for the model.\n",
    "- SageMaker hosting of resulting XGBoost models are available with one-click deployment for scalable predictions.\n",
    "\n",
    "Customers using XGBoost with SageMaker would like the best of both worlds. They would like\n",
    "the benefits above, but they also want seamless model evaluation during their iterative\n",
    "model building process. They need easy access to XGBoost feature importance to understand\n",
    "what features are contributing most heavily to the resulting predictions. They also want to \n",
    "produce ROC curves to visualize model performance. Lastly, they'd like to perform predictions\n",
    "using test data without the need to wait minutes for a hosted endpoint to become active on\n",
    "their latest trained model.\n",
    "\n",
    "Fortunately, as part of the model artifacts produced by SageMaker, customers can achieve\n",
    "all of this, and this notebook demonstrates how to do so."
   ]
  },
  {
   "cell_type": "markdown",
   "metadata": {},
   "source": [
    "## Getting started\n",
    "This notebook assumes you have already trained an XGBoost model using SageMaker. Here you\n",
    "simply enter the name of your training job. You can get this name from the SageMaker\n",
    "console, the CLI, or from the Estimator object in your notebook using the Python SDK."
   ]
  },
  {
   "cell_type": "code",
   "execution_count": 108,
   "metadata": {},
   "outputs": [],
   "source": [
    "TRAINING_JOB_NAME = 'xgboost-2019-07-24-19-59-26-003'"
   ]
  },
  {
   "cell_type": "code",
   "execution_count": 109,
   "metadata": {},
   "outputs": [],
   "source": [
    "local_artifacts_filename = 'tmp.tar.gz'"
   ]
  },
  {
   "cell_type": "markdown",
   "metadata": {},
   "source": [
    "## Define a function to download the model artifacts\n",
    "This function downloads the SageMaker model artifacts file given the name\n",
    "of a SageMaker training job. The model artifacts file is a compressed tar file.\n",
    "For an XGBoost trained model, this compressed file contains the actual XGBoost\n",
    "model which can be used just as you would use any XGBoost model."
   ]
  },
  {
   "cell_type": "code",
   "execution_count": 110,
   "metadata": {},
   "outputs": [],
   "source": [
    "import re\n",
    "import boto3\n",
    "\n",
    "def download_artifacts(job_name, local_fname):\n",
    "    sm_client = boto3.client('sagemaker')\n",
    "    response = sm_client.describe_training_job(TrainingJobName=TRAINING_JOB_NAME)\n",
    "    model_artifacts_full_path = response['ModelArtifacts']['S3ModelArtifacts']  \n",
    "    \n",
    "    p = re.compile('(?<=s3://).*?/')\n",
    "    s = p.search(model_artifacts_full_path)\n",
    "    object_name_start = s.span()[1]\n",
    "    object_name = model_artifacts_full_path[object_name_start:]\n",
    "    bucket_name = s.group()[:-1]\n",
    "    s3 = boto3.client('s3')\n",
    "    s3.download_file(bucket_name, object_name, local_fname)"
   ]
  },
  {
   "cell_type": "markdown",
   "metadata": {},
   "source": [
    "## Define a function to extract the XGBoost model\n",
    "This function extracts the native XGBoost model from a model artifacts file.\n",
    "You can then use the model to do things like make predictions, plot feature\n",
    "importance, or even visualize model performance with an ROC curve."
   ]
  },
  {
   "cell_type": "code",
   "execution_count": 111,
   "metadata": {},
   "outputs": [],
   "source": [
    "import tarfile\n",
    "import joblib\n",
    "\n",
    "def unpack_model_file(fn):\n",
    "    ## Unpack model file\n",
    "\n",
    "    tar = tarfile.open(fn, 'r:gz')\n",
    "    for member in tar.getmembers():\n",
    "         f = tar.extractfile(member)\n",
    "         if f is not None:\n",
    "             content = f.read()\n",
    "    tar.extractall()\n",
    "    fil = open('xgboost-model', 'rb')\n",
    "\n",
    "    ## Load model file back into generate predictions & view feature importance\n",
    "\n",
    "    return joblib.load(fil)\n",
    "\n",
    "    ## Close\n",
    "\n",
    "    fil.close()"
   ]
  },
  {
   "cell_type": "markdown",
   "metadata": {},
   "source": [
    "## Download and unpack the XGBoost model"
   ]
  },
  {
   "cell_type": "code",
   "execution_count": 112,
   "metadata": {},
   "outputs": [],
   "source": [
    "download_artifacts(TRAINING_JOB_NAME, local_artifacts_filename)"
   ]
  },
  {
   "cell_type": "code",
   "execution_count": 113,
   "metadata": {},
   "outputs": [
    {
     "name": "stdout",
     "output_type": "stream",
     "text": [
      "[11:52:01] WARNING: /workspace/src/objective/regression_obj.cu:152: reg:linear is now deprecated in favor of reg:squarederror.\n"
     ]
    }
   ],
   "source": [
    "local_model = unpack_model_file(local_artifacts_filename)"
   ]
  },
  {
   "cell_type": "code",
   "execution_count": 114,
   "metadata": {},
   "outputs": [
    {
     "name": "stdout",
     "output_type": "stream",
     "text": [
      "-rw-r--r-- 1 ec2-user ec2-user 1264702 Jul 24 20:02 xgboost-model\n",
      "-rw-rw-r-- 1 ec2-user ec2-user 568675 Jul 25 11:52 tmp.tar.gz\n"
     ]
    }
   ],
   "source": [
    "!ls -l xgboost-model\n",
    "!ls -l $local_artifacts_filename"
   ]
  },
  {
   "cell_type": "markdown",
   "metadata": {},
   "source": [
    "## Exercise the model locally\n",
    "Here we get to the real purpose of this notebook. The XGBoost trained model from SageMaker\n",
    "is available locally, and we demonstrate that it works. First we chart feature importance."
   ]
  },
  {
   "cell_type": "code",
   "execution_count": 115,
   "metadata": {},
   "outputs": [],
   "source": [
    "num_features = len(local_model.feature_names)"
   ]
  },
  {
   "cell_type": "code",
   "execution_count": 116,
   "metadata": {},
   "outputs": [
    {
     "data": {
      "image/png": "[encoded data removed]",
      "text/plain": [
       "<Figure size 432x432 with 1 Axes>"
      ]
     },
     "metadata": {},
     "output_type": "display_data"
    }
   ],
   "source": [
    "## Chart variable importance\n",
    "import xgboost as xgb\n",
    "import matplotlib.pyplot as plt  \n",
    "\n",
    "fig, ax = plt.subplots(figsize=(6,6))\n",
    "xgb.plot_importance(local_model, max_num_features=num_features, \n",
    "                    height=0.8, ax=ax, show_values = False)\n",
    "plt.title('Top Model Feature Importance')\n",
    "plt.show()"
   ]
  },
  {
   "cell_type": "markdown",
   "metadata": {},
   "source": [
    "## Make some local predictions\n",
    "Here we make local predictions using the XGBoost model. Since we have no idea\n",
    "what model you built, we just generate a random set of input features based on the\n",
    "number of features in your model. No SageMaker endpoint was created. Note that this\n",
    "is great for local iterations during development, but for production usage, you would\n",
    "then be able to leverage SageMaker hosting to surface scalable inference to all of your\n",
    "client applications."
   ]
  },
  {
   "cell_type": "code",
   "execution_count": 117,
   "metadata": {},
   "outputs": [
    {
     "data": {
      "text/plain": [
       "array([0.88909005, 0.47002169, 0.70422999, 0.85942743, 0.22072083,\n",
       "       0.78182814, 0.62474307, 0.14677621, 0.65826772, 0.97617562,\n",
       "       0.54798363, 0.14322313, 0.92073321, 0.95842204, 0.58878439,\n",
       "       0.76251763, 0.91288893, 0.21210937, 0.44511446, 0.07359886,\n",
       "       0.04104192])"
      ]
     },
     "execution_count": 117,
     "metadata": {},
     "output_type": "execute_result"
    }
   ],
   "source": [
    "import numpy as np\n",
    "random_prediction_input = np.random.rand(num_features)\n",
    "random_prediction_input"
   ]
  },
  {
   "cell_type": "code",
   "execution_count": 118,
   "metadata": {},
   "outputs": [
    {
     "data": {
      "text/plain": [
       "array([4.319355], dtype=float32)"
      ]
     },
     "execution_count": 118,
     "metadata": {},
     "output_type": "execute_result"
    }
   ],
   "source": [
    "local_model.predict(xgb.DMatrix([random_prediction_input]))"
   ]
  },
  {
   "cell_type": "code",
   "execution_count": null,
   "metadata": {},
   "outputs": [],
   "source": []
  }
 ],
 "metadata": {
  "kernelspec": {
   "display_name": "conda_python3",
   "language": "python",
   "name": "conda_python3"
  },
  "language_info": {
   "codemirror_mode": {
    "name": "ipython",
    "version": 3
   },
   "file_extension": ".py",
   "mimetype": "text/x-python",
   "name": "python",
   "nbconvert_exporter": "python",
   "pygments_lexer": "ipython3",
   "version": "3.6.5"
  }
 },
 "nbformat": 4,
 "nbformat_minor": 2
}
