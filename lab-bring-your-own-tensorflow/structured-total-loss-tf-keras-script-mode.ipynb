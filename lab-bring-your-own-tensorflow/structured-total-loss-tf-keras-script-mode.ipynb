{
 "cells": [
  {
   "cell_type": "markdown",
   "metadata": {},
   "source": [
    "# Predict Total Loss Based on Structured Claim Data"
   ]
  },
  {
   "cell_type": "markdown",
   "metadata": {},
   "source": [
    "## Establish some parameters"
   ]
  },
  {
   "cell_type": "code",
   "execution_count": null,
   "metadata": {},
   "outputs": [],
   "source": [
    "# use firstname-lastname, or initials, or username\n",
    "# this will be used as a prefix for your training job name, making it easier for you to find the job\n",
    "# later on using the console\n",
    "USER_PREFIX = 'mpr2' "
   ]
  },
  {
   "cell_type": "markdown",
   "metadata": {},
   "source": [
    "## First Generate a Dataset\n",
    "\n",
    "We will synthesize a binary classification dataset to represent structured insurance claim data.  We will set two informative features."
   ]
  },
  {
   "cell_type": "code",
   "execution_count": null,
   "metadata": {},
   "outputs": [],
   "source": [
    "import matplotlib.pyplot as plt\n",
    "%matplotlib inline\n",
    "\n",
    "from sklearn.datasets import make_classification\n",
    "\n",
    "plt.figure(figsize=(8, 8))\n",
    "plt.subplots_adjust(bottom=.05, top=.9, left=.05, right=.95)\n",
    "\n",
    "plt.subplot(321)\n",
    "plt.title(\"Two informative features, one cluster per class\", fontsize='small')\n",
    "X1, Y1 = make_classification(n_samples=1000, n_features=13, n_redundant=0, n_informative=2,\n",
    "                             n_classes=2, n_clusters_per_class=1, shuffle=False,\n",
    "                             class_sep=2.0)\n",
    "\n",
    "# scatter plot of the first 2 features, highlighting separation of Loss/Not-Loss classes\n",
    "plt.scatter(X1[:, 0], X1[:, 1], marker='o', c=Y1,\n",
    "            s=25, edgecolor='k')\n",
    "\n",
    "plt.show()"
   ]
  },
  {
   "cell_type": "markdown",
   "metadata": {},
   "source": [
    "## Next, split the dataset into 3 subsets: training, testing, and validation\n",
    "\n",
    "Here we take the synthetic dataset and create subsets for training, testing, and validation."
   ]
  },
  {
   "cell_type": "code",
   "execution_count": null,
   "metadata": {},
   "outputs": [],
   "source": [
    "import numpy as np\n",
    "from sklearn.model_selection import train_test_split\n",
    "from sklearn.metrics import accuracy_score\n",
    "\n",
    "# split data into train and test sets\n",
    "seed = 7\n",
    "val_size  = 0.20\n",
    "test_size = 0.10\n",
    "\n",
    "# Give 70% to train\n",
    "X_train, X_test, y_train, y_test = train_test_split(X1, Y1, \n",
    "                                                    test_size=(test_size + val_size), \n",
    "                                                    random_state=seed)\n",
    "\n",
    "# Of the remaining 30%, give 2/3 to validation and 1/3 to test\n",
    "X_test, X_val, y_test, y_val = train_test_split(X_test, y_test, \n",
    "                                                test_size=(test_size / (test_size + val_size)),\n",
    "                                                random_state=seed)"
   ]
  },
  {
   "cell_type": "markdown",
   "metadata": {},
   "source": [
    "## Now, normalize the features"
   ]
  },
  {
   "cell_type": "code",
   "execution_count": null,
   "metadata": {},
   "outputs": [],
   "source": [
    "# normalize\n",
    "mean = X_train.mean(axis=0)\n",
    "X_train -= mean\n",
    "std = X_train.std(axis=0)\n",
    "X_train /= std\n",
    "\n",
    "X_test -= mean\n",
    "X_test /= std\n",
    "\n",
    "X_val -= mean\n",
    "X_val /= std"
   ]
  },
  {
   "cell_type": "markdown",
   "metadata": {},
   "source": [
    "Display the shape of each dataset and show a sample observation and target."
   ]
  },
  {
   "cell_type": "code",
   "execution_count": null,
   "metadata": {},
   "outputs": [],
   "source": [
    "print('Train shape: {}, Test shape: {}, Val shape: {}'.format(X_train.shape, \n",
    "                                                              X_test.shape, X_val.shape))\n",
    "print('Train target: {}, Test target: {}, Val target: {}'.format(y_train.shape, \n",
    "                                                                 y_test.shape, y_val.shape))\n",
    "\n",
    "print('\\nSample observation: {}\\nSample target: {}'.format(X_test[0], y_test[0]))"
   ]
  },
  {
   "cell_type": "markdown",
   "metadata": {},
   "source": [
    "## Save the datasets in files to feed the training script\n",
    "\n",
    "Here we use CSV format for files that will be passed to training. We could have just as easily used binary numpy files."
   ]
  },
  {
   "cell_type": "code",
   "execution_count": null,
   "metadata": {},
   "outputs": [],
   "source": [
    "import os\n",
    "data_dir = os.path.join(os.getcwd(), 'data')\n",
    "print('Local data dir: {}'.format(data_dir))\n",
    "\n",
    "import pandas as pd\n",
    "xtrain = pd.DataFrame(X_train)\n",
    "xtrain.to_csv(f'{data_dir}/train/xtrain.csv', header=None, index=False)\n",
    "ytrain = pd.DataFrame(y_train)\n",
    "ytrain.to_csv(f'{data_dir}/train/ytrain.csv', header=None, index=False)\n",
    "\n",
    "xtest = pd.DataFrame(X_test)\n",
    "xtest.to_csv(f'{data_dir}/test/xtest.csv', header=None, index=False)\n",
    "ytest = pd.DataFrame(y_test)\n",
    "ytest.to_csv(f'{data_dir}/test/ytest.csv', header=None, index=False)\n",
    "\n",
    "xval = pd.DataFrame(X_val)\n",
    "xval.to_csv(f'{data_dir}/val/xval.csv', header=None, index=False)\n",
    "yval = pd.DataFrame(y_val)\n",
    "yval.to_csv(f'{data_dir}/val/yval.csv', header=None, index=False)"
   ]
  },
  {
   "cell_type": "markdown",
   "metadata": {},
   "source": [
    "## Prepare the training script\n",
    "\n",
    "When using Amazon SageMaker's script mode, you provide a training script. In our example, we provide a complete script that you can see below. If you want to experiment with the script, you can edit it directly in the `scripts` folder."
   ]
  },
  {
   "cell_type": "code",
   "execution_count": null,
   "metadata": {},
   "outputs": [],
   "source": [
    "!pygmentize 'scripts/loss_train.py'"
   ]
  },
  {
   "cell_type": "markdown",
   "metadata": {},
   "source": [
    "# Create a training job using the `TensorFlow` estimator\n",
    "\n",
    "The `sagemaker.tensorflow.TensorFlow` estimator handles locating the script mode container, uploading your script to an S3 location and creating a SageMaker training job. "
   ]
  },
  {
   "cell_type": "markdown",
   "metadata": {},
   "source": [
    "## Prepare to initiate training\n",
    "\n",
    "Here we get ready to kick off the training. We start by using local mode, which executes training directly in the context of your notebook instance. This is a handy way to iteratively build and debug your training script without the overhead of creating separate training infrastructure. \n",
    "\n",
    "For large scale training, this is critical. Typically you would use a subset of data for these iterations. Once the script is working reliably, you could then use the standard mode for training and hosting which automatically provisions infrastructure on your behalf. Likewise, SageMaker destroys that infrastructure when training is complete, ensuring no charges for idle servers.\n",
    "\n",
    "To train in Local Mode, it is necessary to have docker-compose or nvidia-docker-compose (for GPU) installed in the notebook instance. Running following script will install docker-compose or nvidia-docker-compose and configure the notebook environment for you."
   ]
  },
  {
   "cell_type": "code",
   "execution_count": null,
   "metadata": {},
   "outputs": [],
   "source": [
    "!/bin/bash ./setup.sh"
   ]
  },
  {
   "cell_type": "code",
   "execution_count": null,
   "metadata": {},
   "outputs": [],
   "source": [
    "import os\n",
    "import sagemaker\n",
    "from sagemaker import get_execution_role\n",
    "\n",
    "sagemaker_session = sagemaker.Session()\n",
    "\n",
    "role = get_execution_role()\n",
    "region = sagemaker_session.boto_session.region_name\n",
    "\n",
    "from sagemaker.tensorflow import TensorFlow"
   ]
  },
  {
   "cell_type": "code",
   "execution_count": null,
   "metadata": {},
   "outputs": [],
   "source": [
    "local = False\n",
    "if (local):\n",
    "    train_instance_type = 'local'\n",
    "    serve_instance_type = 'local'\n",
    "else:\n",
    "    train_instance_type = 'ml.c5.xlarge' \n",
    "    serve_instance_type = 'ml.m4.xlarge'\n",
    "\n",
    "hyperparameters = {'epochs': 35, 'data_dir': '/opt/ml/input/data'}\n",
    "\n",
    "metric_definitions=[{'Name' : 'validation:acc', \n",
    "                     'Regex': '.*step.* - val_acc: (.*$)'},\n",
    "                    {'Name' : 'validation:loss', \n",
    "                     'Regex': '- val_loss: (.*?) '}]\n",
    "\n",
    "loss_estimator = TensorFlow(entry_point='loss_train.py',\n",
    "                       source_dir='scripts',\n",
    "                       train_instance_type=train_instance_type,\n",
    "                       train_instance_count=1,\n",
    "                       hyperparameters=hyperparameters,\n",
    "                       metric_definitions=metric_definitions,\n",
    "                       role=sagemaker.get_execution_role(), # Pass notebook role to container\n",
    "                       framework_version='1.12',\n",
    "                       py_version='py3',\n",
    "                       base_job_name=USER_PREFIX,\n",
    "                       script_mode=True)\n",
    "\n",
    "# In training script, you have to save the model in 'saved model' format to use TF serving\n",
    "#https://www.tensorflow.org/guide/saved_model#structure_of_a_savedmodel_directory"
   ]
  },
  {
   "cell_type": "markdown",
   "metadata": {},
   "source": [
    "Now start the training by using the `fit` method passing in the appropriate definition of the train, test, and val data channels. For local mode training, the training starts immediately. For the non-local mode, you will need to wait several minutes as the infrastructure is launched. Following training, the infrastructure is automatically removed."
   ]
  },
  {
   "cell_type": "code",
   "execution_count": null,
   "metadata": {},
   "outputs": [],
   "source": [
    "if (local):\n",
    "    train_in = f'file://{data_dir}/train'\n",
    "    test_in  = f'file://{data_dir}/test'\n",
    "    val_in   = f'file://{data_dir}/val'\n",
    "else:\n",
    "    # upload the files to the s3 bucket\n",
    "    s3_base = sagemaker_session.upload_data(path=data_dir, \n",
    "                                           bucket=sagemaker_session.default_bucket(),\n",
    "                                           key_prefix='loss')\n",
    "    train_in = f'{s3_base}/train'\n",
    "    test_in  = f'{s3_base}/test'\n",
    "    val_in   = f'{s3_base}/val'\n",
    "\n",
    "inputs = {'train':train_in, 'test': test_in, 'val': val_in}\n",
    "\n",
    "print(inputs)"
   ]
  },
  {
   "cell_type": "code",
   "execution_count": null,
   "metadata": {},
   "outputs": [],
   "source": [
    "loss_estimator.fit(inputs) "
   ]
  },
  {
   "cell_type": "markdown",
   "metadata": {},
   "source": [
    "## Deploy the model for real-time inference\n",
    "\n",
    "With the training completed, we now deploy the model to provide real-time inference. This command works in either local mode or stands up its own hosting infrastructure. The type is dictated by the `instance_type` parameter. For the non-local mode, this will take several minutes.\n",
    "\n",
    "When deploying locally, you may get some errors. You can ignore them safely as long as the prediction call works in the next cell."
   ]
  },
  {
   "cell_type": "code",
   "execution_count": null,
   "metadata": {},
   "outputs": [],
   "source": [
    "loss_predictor = loss_estimator.deploy(initial_instance_count=1, \n",
    "                                       instance_type=serve_instance_type,\n",
    "                                       endpoint_type='tensorflow-serving')"
   ]
  },
  {
   "cell_type": "markdown",
   "metadata": {},
   "source": [
    "## Make predictions\n",
    "\n",
    "Now that the endpoint is deployed, we execute a set of inferences against the testing subset of our data. The identical interface is supported for local and non-local modes."
   ]
  },
  {
   "cell_type": "code",
   "execution_count": null,
   "metadata": {},
   "outputs": [],
   "source": [
    "results = loss_predictor.predict(X_test)\n",
    "print('Results: {}\\n'.format(results))"
   ]
  },
  {
   "cell_type": "markdown",
   "metadata": {},
   "source": [
    "Here we display the results, highlighting which predictions were accurate."
   ]
  },
  {
   "cell_type": "code",
   "execution_count": null,
   "metadata": {},
   "outputs": [],
   "source": [
    "tmp_results = results['predictions']\n",
    "fail_count = 0\n",
    "test_count = len(X_test)\n",
    "for i in range(test_count):\n",
    "    if (tmp_results[i][0] > 0.5):\n",
    "        class_predict = 1\n",
    "    else:\n",
    "        class_predict = 0\n",
    "    if (class_predict == y_test[i]):\n",
    "        result = 'PASS'\n",
    "    else:\n",
    "        result = '*FAIL'\n",
    "        fail_count += 1\n",
    "    print('Result: {:.3f}, Target: {}, Result: {}'.format(tmp_results[i][0], \n",
    "                                                          y_test[i],\n",
    "                                                         result))\n",
    "print('Tests: {}, Fails: {}'.format(test_count, fail_count))"
   ]
  },
  {
   "cell_type": "markdown",
   "metadata": {},
   "source": [
    "## Clean up\n",
    "\n",
    "We can now get rid of our endpoint. This is important in non-local mode, as you will otherwise  be billed for an idle endpoint."
   ]
  },
  {
   "cell_type": "code",
   "execution_count": null,
   "metadata": {},
   "outputs": [],
   "source": [
    "if not local:\n",
    "    sagemaker.Session().delete_endpoint(loss_predictor.endpoint)"
   ]
  },
  {
   "cell_type": "markdown",
   "metadata": {},
   "source": [
    "## After local mode, perform remote training, deployment, and inference\n",
    "\n",
    "The first time through the notebook, try everything in local mode. Once you have completed that successfully, go back to the cell that defines `local` and set that to `False`. Re-run the rest of the notebook to experience non-local mode training, deployment, and inference. Be sure to clean up when complete."
   ]
  },
  {
   "cell_type": "markdown",
   "metadata": {},
   "source": [
    "## Automatic model tuning\n",
    "The SageMaker TensorFlow container also supports SageMaker automatic model tuning. This can be a powerful way to find the best model given your optimization objective. In this example, we experiment with the number of epochs, the dimensionality of our first Keras Dense layer, as well as the activation function for that layer."
   ]
  },
  {
   "cell_type": "code",
   "execution_count": null,
   "metadata": {},
   "outputs": [],
   "source": [
    "from sagemaker.tuner import IntegerParameter, CategoricalParameter, ContinuousParameter, HyperparameterTuner\n",
    "from time import gmtime, strftime \n",
    "\n",
    "hyperparameter_ranges = {\n",
    "    'epochs':     IntegerParameter(10, 50),\n",
    "    'dense1_dim': IntegerParameter(8, 64),\n",
    "    'dense1_activation': CategoricalParameter(['relu', 'elu', 'linear'])\n",
    "}\n",
    "\n",
    "objective_metric_name = 'validation:acc'\n",
    "objective_type = 'Maximize'"
   ]
  },
  {
   "cell_type": "markdown",
   "metadata": {},
   "source": [
    "Here we launch the automatic model tuning job. You can watch the progress via the SageMaker console."
   ]
  },
  {
   "cell_type": "code",
   "execution_count": null,
   "metadata": {},
   "outputs": [],
   "source": [
    "tuner = HyperparameterTuner(loss_estimator,\n",
    "                            objective_metric_name,\n",
    "                            hyperparameter_ranges,\n",
    "                            metric_definitions,\n",
    "                            max_jobs=15,\n",
    "                            max_parallel_jobs=5,\n",
    "                            objective_type=objective_type)\n",
    "\n",
    "tuning_job_name = \"tf-mpr-{}\".format(strftime(\"%d-%H-%M-%S\", gmtime()))\n",
    "tuner.fit(inputs, job_name=tuning_job_name)\n",
    "tuner.wait()"
   ]
  },
  {
   "cell_type": "code",
   "execution_count": null,
   "metadata": {},
   "outputs": [],
   "source": []
  }
 ],
 "metadata": {
  "kernelspec": {
   "display_name": "conda_tensorflow_p36",
   "language": "python",
   "name": "conda_tensorflow_p36"
  },
  "language_info": {
   "codemirror_mode": {
    "name": "ipython",
    "version": 3
   },
   "file_extension": ".py",
   "mimetype": "text/x-python",
   "name": "python",
   "nbconvert_exporter": "python",
   "pygments_lexer": "ipython3",
   "version": "3.6.5"
  }
 },
 "nbformat": 4,
 "nbformat_minor": 2
}
