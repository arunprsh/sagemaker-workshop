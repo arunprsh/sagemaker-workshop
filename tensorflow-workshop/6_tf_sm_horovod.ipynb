{
 "cells": [
  {
   "cell_type": "markdown",
   "metadata": {},
   "source": [
    "## Minor changes to the TensorFlow estimator\n",
    "\n",
    "To enable use of Horovod for distributed training, you simply pass a larger train_instance_count and provide a value for the distributions parameter enabling MPI and defining the number of Horovod processes per host.\n"
   ]
  },
  {
   "cell_type": "code",
   "execution_count": null,
   "metadata": {},
   "outputs": [],
   "source": [
    "from sagemaker.tensorflow import TensorFlow\n",
    "import logging\n",
    "\n",
    "hvd_instance_type = 'ml.p3.8xlarge'\n",
    "hvd_processes_per_host = 1  #make it single threaded to avoid MobileNetV2 download corruption issue #4\n",
    "hvd_instance_count = 1\n",
    "\n",
    "serve_instance_type = 'ml.c5.xlarge'\n",
    "\n",
    "distributions = {'mpi': {\n",
    "                    'enabled': True,\n",
    "                    'processes_per_host': hvd_processes_per_host\n",
    "                        }\n",
    "                }\n",
    "\n",
    "hyperparameters = {'initial_epochs': 10, 'tuning_epochs': 50, \n",
    "                   'data_dir': '/opt/ml/input/data',\n",
    "                   'dropout': 0.8, 'num_fully_connected_layers': 1}\n",
    "\n",
    "metric_definitions=[{'Name' : 'validation:acc', \n",
    "                     'Regex': '.*step.* - val_acc: (.*$)'},\n",
    "                    {'Name' : 'validation:loss', \n",
    "                     'Regex': '- val_loss: (.*?) '},\n",
    "                   {'Name' : 'acc', \n",
    "                     'Regex': '.*step.* - acc: (.*?) '},\n",
    "                    {'Name' : 'loss', \n",
    "                     'Regex': '.*step.* - loss: (.*?) '}]\n",
    "\n",
    "estimator = TensorFlow(entry_point='train-mobilenet-horovod.py',\n",
    "                       source_dir='code',\n",
    "                       train_instance_type=hvd_instance_type,\n",
    "                       train_instance_count=hvd_instance_count,\n",
    "                       hyperparameters=hyperparameters,\n",
    "                       metric_definitions=metric_definitions,\n",
    "                       role=sagemaker.get_execution_role(), # Pass notebook role to container\n",
    "                       framework_version='1.13.1', \n",
    "                       py_version='py3',\n",
    "                       base_job_name=JOB_PREFIX,\n",
    "                       script_mode=True)#,\n",
    "#                       distributions=distributions)\n",
    "\n",
    "# 1.12 version gives an error when loading pretrained MobileNetV2 model, complaining about image sizes.\n",
    "# works fine on 1.13.1\n",
    "# however, batch fails on 1.13.1 w GPU's"
   ]
  }
 ],
 "metadata": {
  "kernelspec": {
   "display_name": "conda_tensorflow_p36",
   "language": "python",
   "name": "conda_tensorflow_p36"
  },
  "language_info": {
   "codemirror_mode": {
    "name": "ipython",
    "version": 3
   },
   "file_extension": ".py",
   "mimetype": "text/x-python",
   "name": "python",
   "nbconvert_exporter": "python",
   "pygments_lexer": "ipython3",
   "version": "3.6.5"
  }
 },
 "nbformat": 4,
 "nbformat_minor": 2
}
