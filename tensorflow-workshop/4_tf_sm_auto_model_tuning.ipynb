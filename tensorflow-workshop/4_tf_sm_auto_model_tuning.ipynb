{
 "cells": [
  {
   "cell_type": "markdown",
   "metadata": {},
   "source": [
    "# Automatic model tuning of TensorFlow models with SageMaker\n",
    "This lab demonstrates the power of **Amazon SageMaker's automatic model tuning capability**, also known as hyperparameter optimization (HPO). Instead of a labor intensive process of trial and error that could take days or weeks, [automatic model tuning](https://docs.aws.amazon.com/sagemaker/latest/dg/automatic-model-tuning.html) let's a data scientist ask SageMaker to find the optimal set of hyperparameters. \n",
    "\n",
    "The notebook shows how to provide a set of parameters to tune and ranges to consider, a metric to optimize on, some limits on the number of jobs to consider and the compute capacity to leverage. A SageMaker tuning job then efficiently explores options using a Bayesian optimization. SageMaker creates a set of models and highlights which one is optimal given your constraints. The resulting model is ready for deployment behind an endpoint or for batch predictions."
   ]
  },
  {
   "cell_type": "markdown",
   "metadata": {},
   "source": [
    "## Setup\n",
    "For this notebook, we simply get our security role and establish some parameters for use of S3."
   ]
  },
  {
   "cell_type": "code",
   "execution_count": 1,
   "metadata": {},
   "outputs": [
    {
     "name": "stdout",
     "output_type": "stream",
     "text": [
      "arn:aws:iam::355151823911:role/service-role/AmazonSageMaker-ExecutionRole-20180515T132694\n"
     ]
    }
   ],
   "source": [
    "import sagemaker\n",
    "from sagemaker import get_execution_role\n",
    "import boto3\n",
    "\n",
    "client  = boto3.client(service_name='sagemaker')\n",
    "\n",
    "role = get_execution_role()\n",
    "print(role)\n",
    "sess = sagemaker.Session()\n",
    "\n",
    "bucket = sess.default_bucket() # or custom bucket name\n",
    "prefix = 'DEMO-TF-image-classification-birds'\n",
    "JOB_PREFIX = 'tf-hpo-ic'"
   ]
  },
  {
   "cell_type": "markdown",
   "metadata": {},
   "source": [
    "This notebook relies on execution of previous notebooks in this workshop. Specifically, it assumes the image data has been prepared and uploaded to s3. Here we just define exactly where the training jobs will pull the data from."
   ]
  },
  {
   "cell_type": "code",
   "execution_count": 3,
   "metadata": {},
   "outputs": [
    {
     "name": "stdout",
     "output_type": "stream",
     "text": [
      "Training data:   s3://sagemaker-us-east-1-355151823911/DEMO-TF-image-classification-birds/train\n",
      "Validation data: s3://sagemaker-us-east-1-355151823911/DEMO-TF-image-classification-birds/validation\n",
      "Test data:       s3://sagemaker-us-east-1-355151823911/DEMO-TF-image-classification-birds/test\n"
     ]
    }
   ],
   "source": [
    "train_inputs = 's3://{}/{}/train'.format(bucket, prefix)\n",
    "val_inputs   = 's3://{}/{}/validation'.format(bucket, prefix)\n",
    "test_inputs  = 's3://{}/{}/test'.format(bucket, prefix)\n",
    "print('Training data:   {}\\nValidation data: {}\\nTest data:       {}'.format(train_inputs, val_inputs, test_inputs))"
   ]
  },
  {
   "cell_type": "markdown",
   "metadata": {},
   "source": [
    "Here are the classes that have been uploaded to s3 for training against."
   ]
  },
  {
   "cell_type": "code",
   "execution_count": 4,
   "metadata": {},
   "outputs": [
    {
     "name": "stdout",
     "output_type": "stream",
     "text": [
      "                           PRE 013.Bobolink/\r\n",
      "                           PRE 017.Cardinal/\r\n"
     ]
    }
   ],
   "source": [
    "!aws s3 ls $train_inputs/"
   ]
  },
  {
   "cell_type": "markdown",
   "metadata": {},
   "source": [
    "## Create hyperparameter tuning job\n",
    "To use Amazon SageMaker's automatic model tuning capability, you create a tuning job, which in turn will launch a set of SageMaker training jobs. As when creating a training job directly, you first establish a set of hyperparameters, some metric definitions, and then a TensorFlow estimator which will be fed a Python training script."
   ]
  },
  {
   "cell_type": "code",
   "execution_count": 5,
   "metadata": {},
   "outputs": [],
   "source": [
    "from sagemaker.tensorflow import TensorFlow\n",
    "from sagemaker.tuner import IntegerParameter, CategoricalParameter, ContinuousParameter, HyperparameterTuner"
   ]
  },
  {
   "cell_type": "code",
   "execution_count": 6,
   "metadata": {},
   "outputs": [],
   "source": [
    "hyperparameters = {'initial_epochs': 5, 'tuning_epochs': 35, \n",
    "                   'data_dir': '/opt/ml/input/data',\n",
    "                   'dropout': 0.5, 'num_fully_connected_layers': 1}\n",
    "\n",
    "metric_definitions=[{'Name' : 'validation:acc', \n",
    "                     'Regex': '.*step.* - val_acc: (.*$)'},\n",
    "                    {'Name' : 'validation:loss', \n",
    "                     'Regex': '- val_loss: (.*?) '},\n",
    "                    {'Name' : 'acc', \n",
    "                     'Regex': '.*step.* - acc: (.*?) '},\n",
    "                    {'Name' : 'loss', \n",
    "                     'Regex': '.*step.* - loss: (.*?) '}]\n",
    "\n",
    "estimator = TensorFlow(entry_point='train-mobilenet.py',\n",
    "                    source_dir='code',\n",
    "                    role=role,\n",
    "                    framework_version='1.13.1',\n",
    "                    train_instance_count=1,\n",
    "                    train_instance_type='ml.p3.2xlarge',\n",
    "                    hyperparameters=hyperparameters,\n",
    "                    metric_definitions=metric_definitions,\n",
    "                    py_version='py3',\n",
    "                    base_job_name=JOB_PREFIX)"
   ]
  },
  {
   "cell_type": "markdown",
   "metadata": {},
   "source": [
    "More interestingly, here is the part that is unique to creating the tuning job. You define a set of hyperparameter ranges that you want SageMaker to explore via training jobs. For our example, we focus on the number of [fine tuning](https://www.pyimagesearch.com/2019/06/03/fine-tuning-with-keras-and-deep-learning/) epochs, the dropout ratio, and the fine tuning learning rate. If we were to figure this out manually, it would take significant time and lots of trial and error. With SageMaker, we can hand off that job and find the optimal settings. "
   ]
  },
  {
   "cell_type": "code",
   "execution_count": 30,
   "metadata": {},
   "outputs": [],
   "source": [
    "hyperparameter_ranges = {'fine_tuning_epochs': IntegerParameter(35, 55),\n",
    "                         'dropout': ContinuousParameter(0.2, 0.7),\n",
    "                         'fine_tuning_lr': ContinuousParameter(0.00001, 0.001)}"
   ]
  },
  {
   "cell_type": "code",
   "execution_count": 31,
   "metadata": {},
   "outputs": [],
   "source": [
    "objective_metric_name = 'validation:acc'\n",
    "objective_type = 'Maximize'"
   ]
  },
  {
   "cell_type": "code",
   "execution_count": 32,
   "metadata": {},
   "outputs": [],
   "source": [
    "tuner = HyperparameterTuner(estimator,\n",
    "                            objective_metric_name,\n",
    "                            hyperparameter_ranges,\n",
    "                            metric_definitions,\n",
    "                            max_jobs=8,\n",
    "                            max_parallel_jobs=2,\n",
    "                            objective_type=objective_type,\n",
    "                           base_tuning_job_name=JOB_PREFIX)"
   ]
  },
  {
   "cell_type": "code",
   "execution_count": 33,
   "metadata": {},
   "outputs": [],
   "source": [
    "inputs = {'train':train_inputs, 'test': test_inputs, 'validation': val_inputs}"
   ]
  },
  {
   "cell_type": "markdown",
   "metadata": {},
   "source": [
    "With the tuning job established, we can now launch the job and then check back to see what parameters are best suited to our image classifier."
   ]
  },
  {
   "cell_type": "code",
   "execution_count": 34,
   "metadata": {},
   "outputs": [],
   "source": [
    "tuner.fit(inputs)"
   ]
  },
  {
   "cell_type": "code",
   "execution_count": 35,
   "metadata": {},
   "outputs": [
    {
     "name": "stdout",
     "output_type": "stream",
     "text": [
      "Tuning job: tf-hpo-ic-190908-1357, Status: InProgress\n"
     ]
    }
   ],
   "source": [
    "status = boto3.client('sagemaker').describe_hyper_parameter_tuning_job(\n",
    "    HyperParameterTuningJobName=tuner.latest_tuning_job.job_name)['HyperParameterTuningJobStatus']\n",
    "print('Tuning job: {}, Status: {}'.format(tuner.latest_tuning_job.job_name, status))"
   ]
  },
  {
   "cell_type": "markdown",
   "metadata": {},
   "source": [
    "## Analyze tuning job results\n",
    "In the remainder of this notebook, we perform some analysis on the results of the tuning job. This helps us gain insight into which parameters were most influential and may also help generate ideas for other tuning jobs that would help get even closer to our objective. The SageMaker console also provides a good way to track the job and review results."
   ]
  },
  {
   "cell_type": "code",
   "execution_count": 36,
   "metadata": {},
   "outputs": [],
   "source": [
    "tuning_job_name = tuner.latest_tuning_job.job_name"
   ]
  },
  {
   "cell_type": "markdown",
   "metadata": {},
   "source": [
    "Here we can monitor the progress of the overall tuning job, finding out how many jobs are completed."
   ]
  },
  {
   "cell_type": "code",
   "execution_count": 37,
   "metadata": {},
   "outputs": [
    {
     "name": "stdout",
     "output_type": "stream",
     "text": [
      "7 training jobs have completed\n"
     ]
    }
   ],
   "source": [
    "tuning_job_result = client.describe_hyper_parameter_tuning_job(HyperParameterTuningJobName=tuning_job_name)\n",
    "\n",
    "status = tuning_job_result['HyperParameterTuningJobStatus']\n",
    "if status != 'Completed':\n",
    "    print('Reminder: the tuning job has not been completed.')\n",
    "    \n",
    "job_count = tuning_job_result['TrainingJobStatusCounters']['Completed']\n",
    "print(\"%d training jobs have completed\" % job_count)\n",
    "    \n",
    "is_minimize = (tuning_job_result['HyperParameterTuningJobConfig']['HyperParameterTuningJobObjective']['Type'] != 'Maximize')\n",
    "objective_name = tuning_job_result['HyperParameterTuningJobConfig']['HyperParameterTuningJobObjective']['MetricName']"
   ]
  },
  {
   "cell_type": "markdown",
   "metadata": {},
   "source": [
    "Here we take a look at the parameters that were used for the best model produced thus far."
   ]
  },
  {
   "cell_type": "code",
   "execution_count": 38,
   "metadata": {},
   "outputs": [
    {
     "name": "stdout",
     "output_type": "stream",
     "text": [
      "Best model found so far:\n",
      "{'CreationTime': datetime.datetime(2019, 9, 8, 13, 57, 7, tzinfo=tzlocal()),\n",
      " 'FinalHyperParameterTuningJobObjectiveMetric': {'MetricName': 'validation:acc',\n",
      "                                                 'Value': 1.0},\n",
      " 'ObjectiveStatus': 'Succeeded',\n",
      " 'TrainingEndTime': datetime.datetime(2019, 9, 8, 14, 3, 40, tzinfo=tzlocal()),\n",
      " 'TrainingJobArn': 'arn:aws:sagemaker:us-east-1:355151823911:training-job/tf-hpo-ic-190908-1357-001-04afcf0c',\n",
      " 'TrainingJobName': 'tf-hpo-ic-190908-1357-001-04afcf0c',\n",
      " 'TrainingJobStatus': 'Completed',\n",
      " 'TrainingStartTime': datetime.datetime(2019, 9, 8, 13, 59, 1, tzinfo=tzlocal()),\n",
      " 'TunedHyperParameters': {'dropout': '0.496287895302724',\n",
      "                          'fine_tuning_epochs': '35',\n",
      "                          'fine_tuning_lr': '6.235116341787422e-05'}}\n"
     ]
    }
   ],
   "source": [
    "from pprint import pprint\n",
    "if tuning_job_result.get('BestTrainingJob',None):\n",
    "    print(\"Best model found so far:\")\n",
    "    pprint(tuning_job_result['BestTrainingJob'])\n",
    "else:\n",
    "    print(\"No training jobs have reported results yet.\")"
   ]
  },
  {
   "cell_type": "markdown",
   "metadata": {},
   "source": [
    "Here we produce a grid view of all the jobs, their parameters, and their results. They are sorted in descending order of their final objective value (best metric at the top, worst at the bottom)."
   ]
  },
  {
   "cell_type": "code",
   "execution_count": 39,
   "metadata": {},
   "outputs": [
    {
     "name": "stdout",
     "output_type": "stream",
     "text": [
      "Number of training jobs with valid objective: 7\n",
      "{'lowest': 0.478300005197525, 'highest': 1.0}\n"
     ]
    },
    {
     "data": {
      "text/html": [
       "<div>\n",
       "<style scoped>\n",
       "    .dataframe tbody tr th:only-of-type {\n",
       "        vertical-align: middle;\n",
       "    }\n",
       "\n",
       "    .dataframe tbody tr th {\n",
       "        vertical-align: top;\n",
       "    }\n",
       "\n",
       "    .dataframe thead th {\n",
       "        text-align: right;\n",
       "    }\n",
       "</style>\n",
       "<table border=\"1\" class=\"dataframe\">\n",
       "  <thead>\n",
       "    <tr style=\"text-align: right;\">\n",
       "      <th></th>\n",
       "      <th>FinalObjectiveValue</th>\n",
       "      <th>TrainingElapsedTimeSeconds</th>\n",
       "      <th>TrainingEndTime</th>\n",
       "      <th>TrainingJobName</th>\n",
       "      <th>TrainingJobStatus</th>\n",
       "      <th>TrainingStartTime</th>\n",
       "      <th>dropout</th>\n",
       "      <th>fine_tuning_epochs</th>\n",
       "      <th>fine_tuning_lr</th>\n",
       "    </tr>\n",
       "  </thead>\n",
       "  <tbody>\n",
       "    <tr>\n",
       "      <th>1</th>\n",
       "      <td>1.0000</td>\n",
       "      <td>250.0</td>\n",
       "      <td>2019-09-08 14:22:51+00:00</td>\n",
       "      <td>tf-hpo-ic-190908-1357-007-2bd73a98</td>\n",
       "      <td>Completed</td>\n",
       "      <td>2019-09-08 14:18:41+00:00</td>\n",
       "      <td>0.431433</td>\n",
       "      <td>53.0</td>\n",
       "      <td>0.000010</td>\n",
       "    </tr>\n",
       "    <tr>\n",
       "      <th>2</th>\n",
       "      <td>1.0000</td>\n",
       "      <td>235.0</td>\n",
       "      <td>2019-09-08 14:19:44+00:00</td>\n",
       "      <td>tf-hpo-ic-190908-1357-006-65c428c8</td>\n",
       "      <td>Completed</td>\n",
       "      <td>2019-09-08 14:15:49+00:00</td>\n",
       "      <td>0.296764</td>\n",
       "      <td>40.0</td>\n",
       "      <td>0.000105</td>\n",
       "    </tr>\n",
       "    <tr>\n",
       "      <th>5</th>\n",
       "      <td>1.0000</td>\n",
       "      <td>223.0</td>\n",
       "      <td>2019-09-08 14:10:18+00:00</td>\n",
       "      <td>tf-hpo-ic-190908-1357-003-e88ecaec</td>\n",
       "      <td>Completed</td>\n",
       "      <td>2019-09-08 14:06:35+00:00</td>\n",
       "      <td>0.455496</td>\n",
       "      <td>35.0</td>\n",
       "      <td>0.000602</td>\n",
       "    </tr>\n",
       "    <tr>\n",
       "      <th>7</th>\n",
       "      <td>1.0000</td>\n",
       "      <td>279.0</td>\n",
       "      <td>2019-09-08 14:03:40+00:00</td>\n",
       "      <td>tf-hpo-ic-190908-1357-001-04afcf0c</td>\n",
       "      <td>Completed</td>\n",
       "      <td>2019-09-08 13:59:01+00:00</td>\n",
       "      <td>0.496288</td>\n",
       "      <td>35.0</td>\n",
       "      <td>0.000062</td>\n",
       "    </tr>\n",
       "    <tr>\n",
       "      <th>6</th>\n",
       "      <td>0.9565</td>\n",
       "      <td>275.0</td>\n",
       "      <td>2019-09-08 14:03:58+00:00</td>\n",
       "      <td>tf-hpo-ic-190908-1357-002-7e01f400</td>\n",
       "      <td>Completed</td>\n",
       "      <td>2019-09-08 13:59:23+00:00</td>\n",
       "      <td>0.346427</td>\n",
       "      <td>47.0</td>\n",
       "      <td>0.000026</td>\n",
       "    </tr>\n",
       "    <tr>\n",
       "      <th>0</th>\n",
       "      <td>0.5217</td>\n",
       "      <td>206.0</td>\n",
       "      <td>2019-09-08 14:25:22+00:00</td>\n",
       "      <td>tf-hpo-ic-190908-1357-008-1e99183d</td>\n",
       "      <td>Completed</td>\n",
       "      <td>2019-09-08 14:21:56+00:00</td>\n",
       "      <td>0.332022</td>\n",
       "      <td>35.0</td>\n",
       "      <td>0.000011</td>\n",
       "    </tr>\n",
       "    <tr>\n",
       "      <th>3</th>\n",
       "      <td>0.4783</td>\n",
       "      <td>224.0</td>\n",
       "      <td>2019-09-08 14:16:33+00:00</td>\n",
       "      <td>tf-hpo-ic-190908-1357-005-08170720</td>\n",
       "      <td>Completed</td>\n",
       "      <td>2019-09-08 14:12:49+00:00</td>\n",
       "      <td>0.291764</td>\n",
       "      <td>40.0</td>\n",
       "      <td>0.000109</td>\n",
       "    </tr>\n",
       "  </tbody>\n",
       "</table>\n",
       "</div>"
      ],
      "text/plain": [
       "   FinalObjectiveValue  TrainingElapsedTimeSeconds           TrainingEndTime  \\\n",
       "1  1.0000               250.0                      2019-09-08 14:22:51+00:00   \n",
       "2  1.0000               235.0                      2019-09-08 14:19:44+00:00   \n",
       "5  1.0000               223.0                      2019-09-08 14:10:18+00:00   \n",
       "7  1.0000               279.0                      2019-09-08 14:03:40+00:00   \n",
       "6  0.9565               275.0                      2019-09-08 14:03:58+00:00   \n",
       "0  0.5217               206.0                      2019-09-08 14:25:22+00:00   \n",
       "3  0.4783               224.0                      2019-09-08 14:16:33+00:00   \n",
       "\n",
       "                      TrainingJobName TrainingJobStatus  \\\n",
       "1  tf-hpo-ic-190908-1357-007-2bd73a98  Completed          \n",
       "2  tf-hpo-ic-190908-1357-006-65c428c8  Completed          \n",
       "5  tf-hpo-ic-190908-1357-003-e88ecaec  Completed          \n",
       "7  tf-hpo-ic-190908-1357-001-04afcf0c  Completed          \n",
       "6  tf-hpo-ic-190908-1357-002-7e01f400  Completed          \n",
       "0  tf-hpo-ic-190908-1357-008-1e99183d  Completed          \n",
       "3  tf-hpo-ic-190908-1357-005-08170720  Completed          \n",
       "\n",
       "          TrainingStartTime   dropout  fine_tuning_epochs  fine_tuning_lr  \n",
       "1 2019-09-08 14:18:41+00:00  0.431433  53.0                0.000010        \n",
       "2 2019-09-08 14:15:49+00:00  0.296764  40.0                0.000105        \n",
       "5 2019-09-08 14:06:35+00:00  0.455496  35.0                0.000602        \n",
       "7 2019-09-08 13:59:01+00:00  0.496288  35.0                0.000062        \n",
       "6 2019-09-08 13:59:23+00:00  0.346427  47.0                0.000026        \n",
       "0 2019-09-08 14:21:56+00:00  0.332022  35.0                0.000011        \n",
       "3 2019-09-08 14:12:49+00:00  0.291764  40.0                0.000109        "
      ]
     },
     "execution_count": 39,
     "metadata": {},
     "output_type": "execute_result"
    }
   ],
   "source": [
    "import pandas as pd\n",
    "\n",
    "tuner_analytics = sagemaker.HyperparameterTuningJobAnalytics(tuning_job_name)\n",
    "\n",
    "full_df = tuner_analytics.dataframe()\n",
    "\n",
    "if len(full_df) > 0:\n",
    "    df = full_df[full_df['FinalObjectiveValue'] > -float('inf')]\n",
    "    if len(df) > 0:\n",
    "        df = df.sort_values('FinalObjectiveValue', ascending=is_minimize)\n",
    "        print(\"Number of training jobs with valid objective: %d\" % len(df))\n",
    "        print({\"lowest\":min(df['FinalObjectiveValue']),\"highest\": max(df['FinalObjectiveValue'])})\n",
    "        pd.set_option('display.max_colwidth', -1)  # Don't truncate TrainingJobName        \n",
    "    else:\n",
    "        print(\"No training jobs have reported valid results yet.\")\n",
    "        \n",
    "df"
   ]
  },
  {
   "cell_type": "markdown",
   "metadata": {},
   "source": [
    "With the following chart, we can see how well SageMaker's Bayesian optimization was able to explore the search space of possible hyperparameters over time. In our case, we only ran a few jobs with a few hyperparameter ranges. For a production tuning job with many more jobs and parameter ranges, this chart is more compelling."
   ]
  },
  {
   "cell_type": "code",
   "execution_count": 40,
   "metadata": {},
   "outputs": [
    {
     "data": {
      "text/html": [
       "\n",
       "    <div class=\"bk-root\">\n",
       "        <a href=\"https://bokeh.pydata.org\" target=\"_blank\" class=\"bk-logo bk-logo-small bk-logo-notebook\"></a>\n",
       "        <span id=\"1559\">Loading BokehJS ...</span>\n",
       "    </div>"
      ]
     },
     "metadata": {},
     "output_type": "display_data"
    },
    {
     "data": {
      "application/javascript": [
       "\n",
       "(function(root) {\n",
       "  function now() {\n",
       "    return new Date();\n",
       "  }\n",
       "\n",
       "  var force = true;\n",
       "\n",
       "  if (typeof (root._bokeh_onload_callbacks) === \"undefined\" || force === true) {\n",
       "    root._bokeh_onload_callbacks = [];\n",
       "    root._bokeh_is_loading = undefined;\n",
       "  }\n",
       "\n",
       "  var JS_MIME_TYPE = 'application/javascript';\n",
       "  var HTML_MIME_TYPE = 'text/html';\n",
       "  var EXEC_MIME_TYPE = 'application/vnd.bokehjs_exec.v0+json';\n",
       "  var CLASS_NAME = 'output_bokeh rendered_html';\n",
       "\n",
       "  /**\n",
       "   * Render data to the DOM node\n",
       "   */\n",
       "  function render(props, node) {\n",
       "    var script = document.createElement(\"script\");\n",
       "    node.appendChild(script);\n",
       "  }\n",
       "\n",
       "  /**\n",
       "   * Handle when an output is cleared or removed\n",
       "   */\n",
       "  function handleClearOutput(event, handle) {\n",
       "    var cell = handle.cell;\n",
       "\n",
       "    var id = cell.output_area._bokeh_element_id;\n",
       "    var server_id = cell.output_area._bokeh_server_id;\n",
       "    // Clean up Bokeh references\n",
       "    if (id != null && id in Bokeh.index) {\n",
       "      Bokeh.index[id].model.document.clear();\n",
       "      delete Bokeh.index[id];\n",
       "    }\n",
       "\n",
       "    if (server_id !== undefined) {\n",
       "      // Clean up Bokeh references\n",
       "      var cmd = \"from bokeh.io.state import curstate; print(curstate().uuid_to_server['\" + server_id + \"'].get_sessions()[0].document.roots[0]._id)\";\n",
       "      cell.notebook.kernel.execute(cmd, {\n",
       "        iopub: {\n",
       "          output: function(msg) {\n",
       "            var id = msg.content.text.trim();\n",
       "            if (id in Bokeh.index) {\n",
       "              Bokeh.index[id].model.document.clear();\n",
       "              delete Bokeh.index[id];\n",
       "            }\n",
       "          }\n",
       "        }\n",
       "      });\n",
       "      // Destroy server and session\n",
       "      var cmd = \"import bokeh.io.notebook as ion; ion.destroy_server('\" + server_id + \"')\";\n",
       "      cell.notebook.kernel.execute(cmd);\n",
       "    }\n",
       "  }\n",
       "\n",
       "  /**\n",
       "   * Handle when a new output is added\n",
       "   */\n",
       "  function handleAddOutput(event, handle) {\n",
       "    var output_area = handle.output_area;\n",
       "    var output = handle.output;\n",
       "\n",
       "    // limit handleAddOutput to display_data with EXEC_MIME_TYPE content only\n",
       "    if ((output.output_type != \"display_data\") || (!output.data.hasOwnProperty(EXEC_MIME_TYPE))) {\n",
       "      return\n",
       "    }\n",
       "\n",
       "    var toinsert = output_area.element.find(\".\" + CLASS_NAME.split(' ')[0]);\n",
       "\n",
       "    if (output.metadata[EXEC_MIME_TYPE][\"id\"] !== undefined) {\n",
       "      toinsert[toinsert.length - 1].firstChild.textContent = output.data[JS_MIME_TYPE];\n",
       "      // store reference to embed id on output_area\n",
       "      output_area._bokeh_element_id = output.metadata[EXEC_MIME_TYPE][\"id\"];\n",
       "    }\n",
       "    if (output.metadata[EXEC_MIME_TYPE][\"server_id\"] !== undefined) {\n",
       "      var bk_div = document.createElement(\"div\");\n",
       "      bk_div.innerHTML = output.data[HTML_MIME_TYPE];\n",
       "      var script_attrs = bk_div.children[0].attributes;\n",
       "      for (var i = 0; i < script_attrs.length; i++) {\n",
       "        toinsert[toinsert.length - 1].firstChild.setAttribute(script_attrs[i].name, script_attrs[i].value);\n",
       "      }\n",
       "      // store reference to server id on output_area\n",
       "      output_area._bokeh_server_id = output.metadata[EXEC_MIME_TYPE][\"server_id\"];\n",
       "    }\n",
       "  }\n",
       "\n",
       "  function register_renderer(events, OutputArea) {\n",
       "\n",
       "    function append_mime(data, metadata, element) {\n",
       "      // create a DOM node to render to\n",
       "      var toinsert = this.create_output_subarea(\n",
       "        metadata,\n",
       "        CLASS_NAME,\n",
       "        EXEC_MIME_TYPE\n",
       "      );\n",
       "      this.keyboard_manager.register_events(toinsert);\n",
       "      // Render to node\n",
       "      var props = {data: data, metadata: metadata[EXEC_MIME_TYPE]};\n",
       "      render(props, toinsert[toinsert.length - 1]);\n",
       "      element.append(toinsert);\n",
       "      return toinsert\n",
       "    }\n",
       "\n",
       "    /* Handle when an output is cleared or removed */\n",
       "    events.on('clear_output.CodeCell', handleClearOutput);\n",
       "    events.on('delete.Cell', handleClearOutput);\n",
       "\n",
       "    /* Handle when a new output is added */\n",
       "    events.on('output_added.OutputArea', handleAddOutput);\n",
       "\n",
       "    /**\n",
       "     * Register the mime type and append_mime function with output_area\n",
       "     */\n",
       "    OutputArea.prototype.register_mime_type(EXEC_MIME_TYPE, append_mime, {\n",
       "      /* Is output safe? */\n",
       "      safe: true,\n",
       "      /* Index of renderer in `output_area.display_order` */\n",
       "      index: 0\n",
       "    });\n",
       "  }\n",
       "\n",
       "  // register the mime type if in Jupyter Notebook environment and previously unregistered\n",
       "  if (root.Jupyter !== undefined) {\n",
       "    var events = require('base/js/events');\n",
       "    var OutputArea = require('notebook/js/outputarea').OutputArea;\n",
       "\n",
       "    if (OutputArea.prototype.mime_types().indexOf(EXEC_MIME_TYPE) == -1) {\n",
       "      register_renderer(events, OutputArea);\n",
       "    }\n",
       "  }\n",
       "\n",
       "  \n",
       "  if (typeof (root._bokeh_timeout) === \"undefined\" || force === true) {\n",
       "    root._bokeh_timeout = Date.now() + 5000;\n",
       "    root._bokeh_failed_load = false;\n",
       "  }\n",
       "\n",
       "  var NB_LOAD_WARNING = {'data': {'text/html':\n",
       "     \"<div style='background-color: #fdd'>\\n\"+\n",
       "     \"<p>\\n\"+\n",
       "     \"BokehJS does not appear to have successfully loaded. If loading BokehJS from CDN, this \\n\"+\n",
       "     \"may be due to a slow or bad network connection. Possible fixes:\\n\"+\n",
       "     \"</p>\\n\"+\n",
       "     \"<ul>\\n\"+\n",
       "     \"<li>re-rerun `output_notebook()` to attempt to load from CDN again, or</li>\\n\"+\n",
       "     \"<li>use INLINE resources instead, as so:</li>\\n\"+\n",
       "     \"</ul>\\n\"+\n",
       "     \"<code>\\n\"+\n",
       "     \"from bokeh.resources import INLINE\\n\"+\n",
       "     \"output_notebook(resources=INLINE)\\n\"+\n",
       "     \"</code>\\n\"+\n",
       "     \"</div>\"}};\n",
       "\n",
       "  function display_loaded() {\n",
       "    var el = document.getElementById(\"1559\");\n",
       "    if (el != null) {\n",
       "      el.textContent = \"BokehJS is loading...\";\n",
       "    }\n",
       "    if (root.Bokeh !== undefined) {\n",
       "      if (el != null) {\n",
       "        el.textContent = \"BokehJS \" + root.Bokeh.version + \" successfully loaded.\";\n",
       "      }\n",
       "    } else if (Date.now() < root._bokeh_timeout) {\n",
       "      setTimeout(display_loaded, 100)\n",
       "    }\n",
       "  }\n",
       "\n",
       "\n",
       "  function run_callbacks() {\n",
       "    try {\n",
       "      root._bokeh_onload_callbacks.forEach(function(callback) { callback() });\n",
       "    }\n",
       "    finally {\n",
       "      delete root._bokeh_onload_callbacks\n",
       "    }\n",
       "    console.info(\"Bokeh: all callbacks have finished\");\n",
       "  }\n",
       "\n",
       "  function load_libs(js_urls, callback) {\n",
       "    root._bokeh_onload_callbacks.push(callback);\n",
       "    if (root._bokeh_is_loading > 0) {\n",
       "      console.log(\"Bokeh: BokehJS is being loaded, scheduling callback at\", now());\n",
       "      return null;\n",
       "    }\n",
       "    if (js_urls == null || js_urls.length === 0) {\n",
       "      run_callbacks();\n",
       "      return null;\n",
       "    }\n",
       "    console.log(\"Bokeh: BokehJS not loaded, scheduling load and callback at\", now());\n",
       "    root._bokeh_is_loading = js_urls.length;\n",
       "    for (var i = 0; i < js_urls.length; i++) {\n",
       "      var url = js_urls[i];\n",
       "      var s = document.createElement('script');\n",
       "      s.src = url;\n",
       "      s.async = false;\n",
       "      s.onreadystatechange = s.onload = function() {\n",
       "        root._bokeh_is_loading--;\n",
       "        if (root._bokeh_is_loading === 0) {\n",
       "          console.log(\"Bokeh: all BokehJS libraries loaded\");\n",
       "          run_callbacks()\n",
       "        }\n",
       "      };\n",
       "      s.onerror = function() {\n",
       "        console.warn(\"failed to load library \" + url);\n",
       "      };\n",
       "      console.log(\"Bokeh: injecting script tag for BokehJS library: \", url);\n",
       "      document.getElementsByTagName(\"head\")[0].appendChild(s);\n",
       "    }\n",
       "  };var element = document.getElementById(\"1559\");\n",
       "  if (element == null) {\n",
       "    console.log(\"Bokeh: ERROR: autoload.js configured with elementid '1559' but no matching script tag was found. \")\n",
       "    return false;\n",
       "  }\n",
       "\n",
       "  var js_urls = [\"https://cdn.pydata.org/bokeh/release/bokeh-1.0.4.min.js\", \"https://cdn.pydata.org/bokeh/release/bokeh-widgets-1.0.4.min.js\", \"https://cdn.pydata.org/bokeh/release/bokeh-tables-1.0.4.min.js\", \"https://cdn.pydata.org/bokeh/release/bokeh-gl-1.0.4.min.js\"];\n",
       "\n",
       "  var inline_js = [\n",
       "    function(Bokeh) {\n",
       "      Bokeh.set_log_level(\"info\");\n",
       "    },\n",
       "    \n",
       "    function(Bokeh) {\n",
       "      \n",
       "    },\n",
       "    function(Bokeh) {\n",
       "      console.log(\"Bokeh: injecting CSS: https://cdn.pydata.org/bokeh/release/bokeh-1.0.4.min.css\");\n",
       "      Bokeh.embed.inject_css(\"https://cdn.pydata.org/bokeh/release/bokeh-1.0.4.min.css\");\n",
       "      console.log(\"Bokeh: injecting CSS: https://cdn.pydata.org/bokeh/release/bokeh-widgets-1.0.4.min.css\");\n",
       "      Bokeh.embed.inject_css(\"https://cdn.pydata.org/bokeh/release/bokeh-widgets-1.0.4.min.css\");\n",
       "      console.log(\"Bokeh: injecting CSS: https://cdn.pydata.org/bokeh/release/bokeh-tables-1.0.4.min.css\");\n",
       "      Bokeh.embed.inject_css(\"https://cdn.pydata.org/bokeh/release/bokeh-tables-1.0.4.min.css\");\n",
       "    }\n",
       "  ];\n",
       "\n",
       "  function run_inline_js() {\n",
       "    \n",
       "    if ((root.Bokeh !== undefined) || (force === true)) {\n",
       "      for (var i = 0; i < inline_js.length; i++) {\n",
       "        inline_js[i].call(root, root.Bokeh);\n",
       "      }if (force === true) {\n",
       "        display_loaded();\n",
       "      }} else if (Date.now() < root._bokeh_timeout) {\n",
       "      setTimeout(run_inline_js, 100);\n",
       "    } else if (!root._bokeh_failed_load) {\n",
       "      console.log(\"Bokeh: BokehJS failed to load within specified timeout.\");\n",
       "      root._bokeh_failed_load = true;\n",
       "    } else if (force !== true) {\n",
       "      var cell = $(document.getElementById(\"1559\")).parents('.cell').data().cell;\n",
       "      cell.output_area.append_execute_result(NB_LOAD_WARNING)\n",
       "    }\n",
       "\n",
       "  }\n",
       "\n",
       "  if (root._bokeh_is_loading === 0) {\n",
       "    console.log(\"Bokeh: BokehJS loaded, going straight to plotting\");\n",
       "    run_inline_js();\n",
       "  } else {\n",
       "    load_libs(js_urls, function() {\n",
       "      console.log(\"Bokeh: BokehJS plotting callback run at\", now());\n",
       "      run_inline_js();\n",
       "    });\n",
       "  }\n",
       "}(window));"
      ],
      "application/vnd.bokehjs_load.v0+json": "\n(function(root) {\n  function now() {\n    return new Date();\n  }\n\n  var force = true;\n\n  if (typeof (root._bokeh_onload_callbacks) === \"undefined\" || force === true) {\n    root._bokeh_onload_callbacks = [];\n    root._bokeh_is_loading = undefined;\n  }\n\n  \n\n  \n  if (typeof (root._bokeh_timeout) === \"undefined\" || force === true) {\n    root._bokeh_timeout = Date.now() + 5000;\n    root._bokeh_failed_load = false;\n  }\n\n  var NB_LOAD_WARNING = {'data': {'text/html':\n     \"<div style='background-color: #fdd'>\\n\"+\n     \"<p>\\n\"+\n     \"BokehJS does not appear to have successfully loaded. If loading BokehJS from CDN, this \\n\"+\n     \"may be due to a slow or bad network connection. Possible fixes:\\n\"+\n     \"</p>\\n\"+\n     \"<ul>\\n\"+\n     \"<li>re-rerun `output_notebook()` to attempt to load from CDN again, or</li>\\n\"+\n     \"<li>use INLINE resources instead, as so:</li>\\n\"+\n     \"</ul>\\n\"+\n     \"<code>\\n\"+\n     \"from bokeh.resources import INLINE\\n\"+\n     \"output_notebook(resources=INLINE)\\n\"+\n     \"</code>\\n\"+\n     \"</div>\"}};\n\n  function display_loaded() {\n    var el = document.getElementById(\"1559\");\n    if (el != null) {\n      el.textContent = \"BokehJS is loading...\";\n    }\n    if (root.Bokeh !== undefined) {\n      if (el != null) {\n        el.textContent = \"BokehJS \" + root.Bokeh.version + \" successfully loaded.\";\n      }\n    } else if (Date.now() < root._bokeh_timeout) {\n      setTimeout(display_loaded, 100)\n    }\n  }\n\n\n  function run_callbacks() {\n    try {\n      root._bokeh_onload_callbacks.forEach(function(callback) { callback() });\n    }\n    finally {\n      delete root._bokeh_onload_callbacks\n    }\n    console.info(\"Bokeh: all callbacks have finished\");\n  }\n\n  function load_libs(js_urls, callback) {\n    root._bokeh_onload_callbacks.push(callback);\n    if (root._bokeh_is_loading > 0) {\n      console.log(\"Bokeh: BokehJS is being loaded, scheduling callback at\", now());\n      return null;\n    }\n    if (js_urls == null || js_urls.length === 0) {\n      run_callbacks();\n      return null;\n    }\n    console.log(\"Bokeh: BokehJS not loaded, scheduling load and callback at\", now());\n    root._bokeh_is_loading = js_urls.length;\n    for (var i = 0; i < js_urls.length; i++) {\n      var url = js_urls[i];\n      var s = document.createElement('script');\n      s.src = url;\n      s.async = false;\n      s.onreadystatechange = s.onload = function() {\n        root._bokeh_is_loading--;\n        if (root._bokeh_is_loading === 0) {\n          console.log(\"Bokeh: all BokehJS libraries loaded\");\n          run_callbacks()\n        }\n      };\n      s.onerror = function() {\n        console.warn(\"failed to load library \" + url);\n      };\n      console.log(\"Bokeh: injecting script tag for BokehJS library: \", url);\n      document.getElementsByTagName(\"head\")[0].appendChild(s);\n    }\n  };var element = document.getElementById(\"1559\");\n  if (element == null) {\n    console.log(\"Bokeh: ERROR: autoload.js configured with elementid '1559' but no matching script tag was found. \")\n    return false;\n  }\n\n  var js_urls = [\"https://cdn.pydata.org/bokeh/release/bokeh-1.0.4.min.js\", \"https://cdn.pydata.org/bokeh/release/bokeh-widgets-1.0.4.min.js\", \"https://cdn.pydata.org/bokeh/release/bokeh-tables-1.0.4.min.js\", \"https://cdn.pydata.org/bokeh/release/bokeh-gl-1.0.4.min.js\"];\n\n  var inline_js = [\n    function(Bokeh) {\n      Bokeh.set_log_level(\"info\");\n    },\n    \n    function(Bokeh) {\n      \n    },\n    function(Bokeh) {\n      console.log(\"Bokeh: injecting CSS: https://cdn.pydata.org/bokeh/release/bokeh-1.0.4.min.css\");\n      Bokeh.embed.inject_css(\"https://cdn.pydata.org/bokeh/release/bokeh-1.0.4.min.css\");\n      console.log(\"Bokeh: injecting CSS: https://cdn.pydata.org/bokeh/release/bokeh-widgets-1.0.4.min.css\");\n      Bokeh.embed.inject_css(\"https://cdn.pydata.org/bokeh/release/bokeh-widgets-1.0.4.min.css\");\n      console.log(\"Bokeh: injecting CSS: https://cdn.pydata.org/bokeh/release/bokeh-tables-1.0.4.min.css\");\n      Bokeh.embed.inject_css(\"https://cdn.pydata.org/bokeh/release/bokeh-tables-1.0.4.min.css\");\n    }\n  ];\n\n  function run_inline_js() {\n    \n    if ((root.Bokeh !== undefined) || (force === true)) {\n      for (var i = 0; i < inline_js.length; i++) {\n        inline_js[i].call(root, root.Bokeh);\n      }if (force === true) {\n        display_loaded();\n      }} else if (Date.now() < root._bokeh_timeout) {\n      setTimeout(run_inline_js, 100);\n    } else if (!root._bokeh_failed_load) {\n      console.log(\"Bokeh: BokehJS failed to load within specified timeout.\");\n      root._bokeh_failed_load = true;\n    } else if (force !== true) {\n      var cell = $(document.getElementById(\"1559\")).parents('.cell').data().cell;\n      cell.output_area.append_execute_result(NB_LOAD_WARNING)\n    }\n\n  }\n\n  if (root._bokeh_is_loading === 0) {\n    console.log(\"Bokeh: BokehJS loaded, going straight to plotting\");\n    run_inline_js();\n  } else {\n    load_libs(js_urls, function() {\n      console.log(\"Bokeh: BokehJS plotting callback run at\", now());\n      run_inline_js();\n    });\n  }\n}(window));"
     },
     "metadata": {},
     "output_type": "display_data"
    },
    {
     "data": {
      "text/html": [
       "\n",
       "\n",
       "\n",
       "\n",
       "\n",
       "\n",
       "  <div class=\"bk-root\" id=\"55dbf444-90e6-4522-8d94-3257dcc7d6b2\" data-root-id=\"1561\"></div>\n"
      ]
     },
     "metadata": {},
     "output_type": "display_data"
    },
    {
     "data": {
      "application/javascript": [
       "(function(root) {\n",
       "  function embed_document(root) {\n",
       "    \n",
       "  var docs_json = {\"24768bd3-1cf9-41ac-b7c4-a009a1eb3c50\":{\"roots\":{\"references\":[{\"attributes\":{\"below\":[{\"id\":\"1570\",\"type\":\"DatetimeAxis\"}],\"left\":[{\"id\":\"1575\",\"type\":\"LinearAxis\"}],\"plot_height\":400,\"plot_width\":900,\"renderers\":[{\"id\":\"1570\",\"type\":\"DatetimeAxis\"},{\"id\":\"1574\",\"type\":\"Grid\"},{\"id\":\"1575\",\"type\":\"LinearAxis\"},{\"id\":\"1579\",\"type\":\"Grid\"},{\"id\":\"1600\",\"type\":\"GlyphRenderer\"}],\"title\":{\"id\":\"1644\",\"type\":\"Title\"},\"toolbar\":{\"id\":\"1587\",\"type\":\"Toolbar\"},\"x_range\":{\"id\":\"1562\",\"type\":\"DataRange1d\"},\"x_scale\":{\"id\":\"1566\",\"type\":\"LinearScale\"},\"y_range\":{\"id\":\"1564\",\"type\":\"DataRange1d\"},\"y_scale\":{\"id\":\"1568\",\"type\":\"LinearScale\"}},\"id\":\"1561\",\"subtype\":\"Figure\",\"type\":\"Plot\"},{\"attributes\":{\"fill_alpha\":{\"value\":0.1},\"fill_color\":{\"value\":\"#1f77b4\"},\"line_alpha\":{\"value\":0.1},\"line_color\":{\"value\":\"#1f77b4\"},\"x\":{\"field\":\"TrainingStartTime\"},\"y\":{\"field\":\"FinalObjectiveValue\"}},\"id\":\"1599\",\"type\":\"Circle\"},{\"attributes\":{\"months\":[0,6]},\"id\":\"1659\",\"type\":\"MonthsTicker\"},{\"attributes\":{\"callback\":null,\"data\":{\"FinalObjectiveValue\":{\"__ndarray__\":\"AAAAAAAA8D8AAAAAAADwPwAAAAAAAPA/AAAAAAAA8D8AAADgpZvuPwAAAEDEseA/AAAAoHec3j8=\",\"dtype\":\"float64\",\"shape\":[7]},\"TrainingElapsedTimeSeconds\":{\"__ndarray__\":\"AAAAAABAb0AAAAAAAGBtQAAAAAAA4GtAAAAAAABwcUAAAAAAADBxQAAAAAAAwGlAAAAAAAAAbEA=\",\"dtype\":\"float64\",\"shape\":[7]},\"TrainingEndTime\":{\"__ndarray__\":\"AICnGBTRdkIAAADrE9F2QgAA0WAT0XZCAACm/xLRdkIAAAsEE9F2QgAAhT0U0XZCAIBevBPRdkI=\",\"dtype\":\"float64\",\"shape\":[7]},\"TrainingJobName\":[\"tf-hpo-ic-190908-1357-007-2bd73a98\",\"tf-hpo-ic-190908-1357-006-65c428c8\",\"tf-hpo-ic-190908-1357-003-e88ecaec\",\"tf-hpo-ic-190908-1357-001-04afcf0c\",\"tf-hpo-ic-190908-1357-002-7e01f400\",\"tf-hpo-ic-190908-1357-008-1e99183d\",\"tf-hpo-ic-190908-1357-005-08170720\"],\"TrainingJobStatus\":[\"Completed\",\"Completed\",\"Completed\",\"Completed\",\"Completed\",\"Completed\",\"Completed\"],\"TrainingStartTime\":{\"__ndarray__\":\"AICe2xPRdkIAgKCxE9F2QgCAXyoT0XZCAICIuxLRdkIAgOfAEtF2QgAAOgsU0XZCAICuhRPRdkI=\",\"dtype\":\"float64\",\"shape\":[7]},\"dropout\":{\"__ndarray__\":\"AC0N05mc2z+vdO5NLv7SPwAtDdPZJt0/rnTuTS7D3z8gJ0in3CvWPwAtDdPZP9U/XbzPyEKs0j8=\",\"dtype\":\"float64\",\"shape\":[7]},\"fine_tuning_epochs\":{\"__ndarray__\":\"AAAAAACASkAAAAAAAABEQAAAAAAAgEFAAAAAAACAQUAAAAAAAIBHQAAAAAAAgEFAAAAAAAAAREA=\",\"dtype\":\"float64\",\"shape\":[7]},\"fine_tuning_lr\":{\"__ndarray__\":\"+yxNugLR5T5KtuznYmYbP7ZXHbZVuUM/vLa71FBYED+JSvqxr4X7PmC+pVeI6+c+QtKF1fawHD8=\",\"dtype\":\"float64\",\"shape\":[7]},\"index\":[1,2,5,7,6,0,3]},\"selected\":{\"id\":\"1661\",\"type\":\"Selection\"},\"selection_policy\":{\"id\":\"1662\",\"type\":\"UnionRenderers\"}},\"id\":\"1596\",\"type\":\"ColumnDataSource\"},{\"attributes\":{\"formatter\":{\"id\":\"1647\",\"type\":\"BasicTickFormatter\"},\"plot\":{\"id\":\"1561\",\"subtype\":\"Figure\",\"type\":\"Plot\"},\"ticker\":{\"id\":\"1576\",\"type\":\"BasicTicker\"}},\"id\":\"1575\",\"type\":\"LinearAxis\"},{\"attributes\":{\"months\":[0,4,8]},\"id\":\"1658\",\"type\":\"MonthsTicker\"},{\"attributes\":{},\"id\":\"1645\",\"type\":\"DatetimeTickFormatter\"},{\"attributes\":{},\"id\":\"1576\",\"type\":\"BasicTicker\"},{\"attributes\":{\"formatter\":{\"id\":\"1645\",\"type\":\"DatetimeTickFormatter\"},\"plot\":{\"id\":\"1561\",\"subtype\":\"Figure\",\"type\":\"Plot\"},\"ticker\":{\"id\":\"1571\",\"type\":\"DatetimeTicker\"}},\"id\":\"1570\",\"type\":\"DatetimeAxis\"},{\"attributes\":{\"base\":24,\"mantissas\":[1,2,4,6,8,12],\"max_interval\":43200000.0,\"min_interval\":3600000.0,\"num_minor_ticks\":0},\"id\":\"1651\",\"type\":\"AdaptiveTicker\"},{\"attributes\":{\"callback\":null},\"id\":\"1564\",\"type\":\"DataRange1d\"},{\"attributes\":{},\"id\":\"1568\",\"type\":\"LinearScale\"},{\"attributes\":{\"months\":[0,2,4,6,8,10]},\"id\":\"1657\",\"type\":\"MonthsTicker\"},{\"attributes\":{\"months\":[0,1,2,3,4,5,6,7,8,9,10,11]},\"id\":\"1656\",\"type\":\"MonthsTicker\"},{\"attributes\":{},\"id\":\"1583\",\"type\":\"ZoomInTool\"},{\"attributes\":{\"num_minor_ticks\":5,\"tickers\":[{\"id\":\"1649\",\"type\":\"AdaptiveTicker\"},{\"id\":\"1650\",\"type\":\"AdaptiveTicker\"},{\"id\":\"1651\",\"type\":\"AdaptiveTicker\"},{\"id\":\"1652\",\"type\":\"DaysTicker\"},{\"id\":\"1653\",\"type\":\"DaysTicker\"},{\"id\":\"1654\",\"type\":\"DaysTicker\"},{\"id\":\"1655\",\"type\":\"DaysTicker\"},{\"id\":\"1656\",\"type\":\"MonthsTicker\"},{\"id\":\"1657\",\"type\":\"MonthsTicker\"},{\"id\":\"1658\",\"type\":\"MonthsTicker\"},{\"id\":\"1659\",\"type\":\"MonthsTicker\"},{\"id\":\"1660\",\"type\":\"YearsTicker\"}]},\"id\":\"1571\",\"type\":\"DatetimeTicker\"},{\"attributes\":{\"days\":[1,15]},\"id\":\"1655\",\"type\":\"DaysTicker\"},{\"attributes\":{\"days\":[1,8,15,22]},\"id\":\"1654\",\"type\":\"DaysTicker\"},{\"attributes\":{\"callback\":null,\"tooltips\":[[\"FinalObjectiveValue\",\"@FinalObjectiveValue\"],[\"TrainingJobName\",\"@TrainingJobName\"],[\"fine_tuning_epochs\",\"@{fine_tuning_epochs}\"],[\"dropout\",\"@{dropout}\"],[\"fine_tuning_lr\",\"@{fine_tuning_lr}\"]]},\"id\":\"1560\",\"type\":\"HoverTool\"},{\"attributes\":{\"days\":[1,2,3,4,5,6,7,8,9,10,11,12,13,14,15,16,17,18,19,20,21,22,23,24,25,26,27,28,29,30,31]},\"id\":\"1652\",\"type\":\"DaysTicker\"},{\"attributes\":{},\"id\":\"1585\",\"type\":\"UndoTool\"},{\"attributes\":{\"plot\":{\"id\":\"1561\",\"subtype\":\"Figure\",\"type\":\"Plot\"},\"ticker\":{\"id\":\"1571\",\"type\":\"DatetimeTicker\"}},\"id\":\"1574\",\"type\":\"Grid\"},{\"attributes\":{},\"id\":\"1647\",\"type\":\"BasicTickFormatter\"},{\"attributes\":{\"days\":[1,4,7,10,13,16,19,22,25,28]},\"id\":\"1653\",\"type\":\"DaysTicker\"},{\"attributes\":{\"source\":{\"id\":\"1596\",\"type\":\"ColumnDataSource\"}},\"id\":\"1601\",\"type\":\"CDSView\"},{\"attributes\":{\"active_drag\":\"auto\",\"active_inspect\":\"auto\",\"active_multi\":null,\"active_scroll\":\"auto\",\"active_tap\":\"auto\",\"tools\":[{\"id\":\"1560\",\"type\":\"HoverTool\"},{\"id\":\"1580\",\"type\":\"PanTool\"},{\"id\":\"1581\",\"type\":\"CrosshairTool\"},{\"id\":\"1582\",\"type\":\"WheelZoomTool\"},{\"id\":\"1583\",\"type\":\"ZoomInTool\"},{\"id\":\"1584\",\"type\":\"ZoomOutTool\"},{\"id\":\"1585\",\"type\":\"UndoTool\"},{\"id\":\"1586\",\"type\":\"ResetTool\"}]},\"id\":\"1587\",\"type\":\"Toolbar\"},{\"attributes\":{\"mantissas\":[1,2,5],\"max_interval\":500.0,\"num_minor_ticks\":0},\"id\":\"1649\",\"type\":\"AdaptiveTicker\"},{\"attributes\":{},\"id\":\"1566\",\"type\":\"LinearScale\"},{\"attributes\":{},\"id\":\"1580\",\"type\":\"PanTool\"},{\"attributes\":{\"fill_color\":{\"value\":\"#1f77b4\"},\"line_color\":{\"value\":\"#1f77b4\"},\"x\":{\"field\":\"TrainingStartTime\"},\"y\":{\"field\":\"FinalObjectiveValue\"}},\"id\":\"1598\",\"type\":\"Circle\"},{\"attributes\":{\"plot\":null,\"text\":\"\"},\"id\":\"1644\",\"type\":\"Title\"},{\"attributes\":{},\"id\":\"1581\",\"type\":\"CrosshairTool\"},{\"attributes\":{\"data_source\":{\"id\":\"1596\",\"type\":\"ColumnDataSource\"},\"glyph\":{\"id\":\"1598\",\"type\":\"Circle\"},\"hover_glyph\":null,\"muted_glyph\":null,\"nonselection_glyph\":{\"id\":\"1599\",\"type\":\"Circle\"},\"selection_glyph\":null,\"view\":{\"id\":\"1601\",\"type\":\"CDSView\"}},\"id\":\"1600\",\"type\":\"GlyphRenderer\"},{\"attributes\":{\"dimension\":1,\"plot\":{\"id\":\"1561\",\"subtype\":\"Figure\",\"type\":\"Plot\"},\"ticker\":{\"id\":\"1576\",\"type\":\"BasicTicker\"}},\"id\":\"1579\",\"type\":\"Grid\"},{\"attributes\":{\"callback\":null},\"id\":\"1562\",\"type\":\"DataRange1d\"},{\"attributes\":{\"base\":60,\"mantissas\":[1,2,5,10,15,20,30],\"max_interval\":1800000.0,\"min_interval\":1000.0,\"num_minor_ticks\":0},\"id\":\"1650\",\"type\":\"AdaptiveTicker\"},{\"attributes\":{},\"id\":\"1586\",\"type\":\"ResetTool\"},{\"attributes\":{},\"id\":\"1582\",\"type\":\"WheelZoomTool\"},{\"attributes\":{},\"id\":\"1660\",\"type\":\"YearsTicker\"},{\"attributes\":{},\"id\":\"1662\",\"type\":\"UnionRenderers\"},{\"attributes\":{},\"id\":\"1661\",\"type\":\"Selection\"},{\"attributes\":{},\"id\":\"1584\",\"type\":\"ZoomOutTool\"}],\"root_ids\":[\"1561\"]},\"title\":\"Bokeh Application\",\"version\":\"1.0.4\"}};\n",
       "  var render_items = [{\"docid\":\"24768bd3-1cf9-41ac-b7c4-a009a1eb3c50\",\"roots\":{\"1561\":\"55dbf444-90e6-4522-8d94-3257dcc7d6b2\"}}];\n",
       "  root.Bokeh.embed.embed_items_notebook(docs_json, render_items);\n",
       "\n",
       "  }\n",
       "  if (root.Bokeh !== undefined) {\n",
       "    embed_document(root);\n",
       "  } else {\n",
       "    var attempts = 0;\n",
       "    var timer = setInterval(function(root) {\n",
       "      if (root.Bokeh !== undefined) {\n",
       "        embed_document(root);\n",
       "        clearInterval(timer);\n",
       "      }\n",
       "      attempts++;\n",
       "      if (attempts > 100) {\n",
       "        console.log(\"Bokeh: ERROR: Unable to run BokehJS code because BokehJS library is missing\");\n",
       "        clearInterval(timer);\n",
       "      }\n",
       "    }, 10, root)\n",
       "  }\n",
       "})(window);"
      ],
      "application/vnd.bokehjs_exec.v0+json": ""
     },
     "metadata": {
      "application/vnd.bokehjs_exec.v0+json": {
       "id": "1561"
      }
     },
     "output_type": "display_data"
    }
   ],
   "source": [
    "import bokeh\n",
    "import bokeh.io\n",
    "bokeh.io.output_notebook()\n",
    "from bokeh.plotting import figure, show\n",
    "from bokeh.models import HoverTool\n",
    "\n",
    "class HoverHelper():\n",
    "\n",
    "    def __init__(self, tuning_analytics):\n",
    "        self.tuner = tuning_analytics\n",
    "\n",
    "    def hovertool(self):\n",
    "        tooltips = [\n",
    "            (\"FinalObjectiveValue\", \"@FinalObjectiveValue\"),\n",
    "            (\"TrainingJobName\", \"@TrainingJobName\"),\n",
    "        ]\n",
    "        for k in self.tuner.tuning_ranges.keys():\n",
    "            tooltips.append( (k, \"@{%s}\" % k) )\n",
    "\n",
    "        ht = HoverTool(tooltips=tooltips)\n",
    "        return ht\n",
    "\n",
    "    def tools(self, standard_tools='pan,crosshair,wheel_zoom,zoom_in,zoom_out,undo,reset'):\n",
    "        return [self.hovertool(), standard_tools]\n",
    "\n",
    "hover = HoverHelper(tuner_analytics)\n",
    "\n",
    "p = figure(plot_width=900, plot_height=400, tools=hover.tools(), x_axis_type='datetime')\n",
    "p.circle(source=df, x='TrainingStartTime', y='FinalObjectiveValue')\n",
    "show(p)"
   ]
  },
  {
   "cell_type": "markdown",
   "metadata": {},
   "source": [
    "Lastly, we take a look at how significantly each of our hyperparameters impacted the final objective value."
   ]
  },
  {
   "cell_type": "code",
   "execution_count": 41,
   "metadata": {},
   "outputs": [
    {
     "data": {
      "text/html": [
       "\n",
       "\n",
       "\n",
       "\n",
       "\n",
       "\n",
       "  <div class=\"bk-root\" id=\"4bcc4c29-6ac9-4319-9b79-4ec8374c080a\" data-root-id=\"1915\"></div>\n"
      ]
     },
     "metadata": {},
     "output_type": "display_data"
    },
    {
     "data": {
      "application/javascript": [
       "(function(root) {\n",
       "  function embed_document(root) {\n",
       "    \n",
       "  var docs_json = {\"c94a6ae0-a147-4002-af21-dae801c85321\":{\"roots\":{\"references\":[{\"attributes\":{\"children\":[{\"id\":\"1785\",\"subtype\":\"Figure\",\"type\":\"Plot\"},{\"id\":\"1829\",\"subtype\":\"Figure\",\"type\":\"Plot\"},{\"id\":\"1873\",\"subtype\":\"Figure\",\"type\":\"Plot\"}]},\"id\":\"1915\",\"type\":\"Column\"},{\"attributes\":{},\"id\":\"1840\",\"type\":\"BasicTicker\"},{\"attributes\":{\"axis_label\":\"validation:acc\",\"formatter\":{\"id\":\"1986\",\"type\":\"BasicTickFormatter\"},\"plot\":{\"id\":\"1829\",\"subtype\":\"Figure\",\"type\":\"Plot\"},\"ticker\":{\"id\":\"1845\",\"type\":\"BasicTicker\"}},\"id\":\"1844\",\"type\":\"LinearAxis\"},{\"attributes\":{},\"id\":\"1845\",\"type\":\"BasicTicker\"},{\"attributes\":{\"plot\":{\"id\":\"1829\",\"subtype\":\"Figure\",\"type\":\"Plot\"},\"ticker\":{\"id\":\"1840\",\"type\":\"BasicTicker\"}},\"id\":\"1843\",\"type\":\"Grid\"},{\"attributes\":{\"axis_label\":\"fine_tuning_epochs\",\"formatter\":{\"id\":\"1980\",\"type\":\"BasicTickFormatter\"},\"plot\":{\"id\":\"1785\",\"subtype\":\"Figure\",\"type\":\"Plot\"},\"ticker\":{\"id\":\"1796\",\"type\":\"BasicTicker\"}},\"id\":\"1795\",\"type\":\"LinearAxis\"},{\"attributes\":{},\"id\":\"1980\",\"type\":\"BasicTickFormatter\"},{\"attributes\":{},\"id\":\"1811\",\"type\":\"ResetTool\"},{\"attributes\":{},\"id\":\"1796\",\"type\":\"BasicTicker\"},{\"attributes\":{\"callback\":null,\"data\":{\"FinalObjectiveValue\":{\"__ndarray__\":\"AAAAAAAA8D8AAAAAAADwPwAAAAAAAPA/AAAAAAAA8D8AAADgpZvuPwAAAEDEseA/AAAAoHec3j8=\",\"dtype\":\"float64\",\"shape\":[7]},\"TrainingElapsedTimeSeconds\":{\"__ndarray__\":\"AAAAAABAb0AAAAAAAGBtQAAAAAAA4GtAAAAAAABwcUAAAAAAADBxQAAAAAAAwGlAAAAAAAAAbEA=\",\"dtype\":\"float64\",\"shape\":[7]},\"TrainingEndTime\":{\"__ndarray__\":\"AICnGBTRdkIAAADrE9F2QgAA0WAT0XZCAACm/xLRdkIAAAsEE9F2QgAAhT0U0XZCAIBevBPRdkI=\",\"dtype\":\"float64\",\"shape\":[7]},\"TrainingJobName\":[\"tf-hpo-ic-190908-1357-007-2bd73a98\",\"tf-hpo-ic-190908-1357-006-65c428c8\",\"tf-hpo-ic-190908-1357-003-e88ecaec\",\"tf-hpo-ic-190908-1357-001-04afcf0c\",\"tf-hpo-ic-190908-1357-002-7e01f400\",\"tf-hpo-ic-190908-1357-008-1e99183d\",\"tf-hpo-ic-190908-1357-005-08170720\"],\"TrainingJobStatus\":[\"Completed\",\"Completed\",\"Completed\",\"Completed\",\"Completed\",\"Completed\",\"Completed\"],\"TrainingStartTime\":{\"__ndarray__\":\"AICe2xPRdkIAgKCxE9F2QgCAXyoT0XZCAICIuxLRdkIAgOfAEtF2QgAAOgsU0XZCAICuhRPRdkI=\",\"dtype\":\"float64\",\"shape\":[7]},\"dropout\":{\"__ndarray__\":\"AC0N05mc2z+vdO5NLv7SPwAtDdPZJt0/rnTuTS7D3z8gJ0in3CvWPwAtDdPZP9U/XbzPyEKs0j8=\",\"dtype\":\"float64\",\"shape\":[7]},\"fine_tuning_epochs\":{\"__ndarray__\":\"AAAAAACASkAAAAAAAABEQAAAAAAAgEFAAAAAAACAQUAAAAAAAIBHQAAAAAAAgEFAAAAAAAAAREA=\",\"dtype\":\"float64\",\"shape\":[7]},\"fine_tuning_lr\":{\"__ndarray__\":\"+yxNugLR5T5KtuznYmYbP7ZXHbZVuUM/vLa71FBYED+JSvqxr4X7PmC+pVeI6+c+QtKF1fawHD8=\",\"dtype\":\"float64\",\"shape\":[7]},\"index\":[1,2,5,7,6,0,3]},\"selected\":{\"id\":\"1994\",\"type\":\"Selection\"},\"selection_policy\":{\"id\":\"1995\",\"type\":\"UnionRenderers\"}},\"id\":\"1865\",\"type\":\"ColumnDataSource\"},{\"attributes\":{\"source\":{\"id\":\"1865\",\"type\":\"ColumnDataSource\"}},\"id\":\"1870\",\"type\":\"CDSView\"},{\"attributes\":{\"callback\":null,\"tooltips\":[[\"FinalObjectiveValue\",\"@FinalObjectiveValue\"],[\"TrainingJobName\",\"@TrainingJobName\"],[\"fine_tuning_epochs\",\"@{fine_tuning_epochs}\"],[\"dropout\",\"@{dropout}\"],[\"fine_tuning_lr\",\"@{fine_tuning_lr}\"]]},\"id\":\"1827\",\"type\":\"HoverTool\"},{\"attributes\":{},\"id\":\"1852\",\"type\":\"ZoomInTool\"},{\"attributes\":{\"axis_label\":\"dropout\",\"formatter\":{\"id\":\"1984\",\"type\":\"BasicTickFormatter\"},\"plot\":{\"id\":\"1829\",\"subtype\":\"Figure\",\"type\":\"Plot\"},\"ticker\":{\"id\":\"1840\",\"type\":\"BasicTicker\"}},\"id\":\"1839\",\"type\":\"LinearAxis\"},{\"attributes\":{},\"id\":\"1853\",\"type\":\"ZoomOutTool\"},{\"attributes\":{\"active_drag\":\"auto\",\"active_inspect\":\"auto\",\"active_multi\":null,\"active_scroll\":\"auto\",\"active_tap\":\"auto\",\"tools\":[{\"id\":\"1827\",\"type\":\"HoverTool\"},{\"id\":\"1849\",\"type\":\"PanTool\"},{\"id\":\"1850\",\"type\":\"CrosshairTool\"},{\"id\":\"1851\",\"type\":\"WheelZoomTool\"},{\"id\":\"1852\",\"type\":\"ZoomInTool\"},{\"id\":\"1853\",\"type\":\"ZoomOutTool\"},{\"id\":\"1854\",\"type\":\"UndoTool\"},{\"id\":\"1855\",\"type\":\"ResetTool\"}]},\"id\":\"1856\",\"type\":\"Toolbar\"},{\"attributes\":{\"active_drag\":\"auto\",\"active_inspect\":\"auto\",\"active_multi\":null,\"active_scroll\":\"auto\",\"active_tap\":\"auto\",\"tools\":[{\"id\":\"1783\",\"type\":\"HoverTool\"},{\"id\":\"1805\",\"type\":\"PanTool\"},{\"id\":\"1806\",\"type\":\"CrosshairTool\"},{\"id\":\"1807\",\"type\":\"WheelZoomTool\"},{\"id\":\"1808\",\"type\":\"ZoomInTool\"},{\"id\":\"1809\",\"type\":\"ZoomOutTool\"},{\"id\":\"1810\",\"type\":\"UndoTool\"},{\"id\":\"1811\",\"type\":\"ResetTool\"}]},\"id\":\"1812\",\"type\":\"Toolbar\"},{\"attributes\":{},\"id\":\"1808\",\"type\":\"ZoomInTool\"},{\"attributes\":{},\"id\":\"1854\",\"type\":\"UndoTool\"},{\"attributes\":{\"fill_alpha\":{\"value\":0.1},\"fill_color\":{\"value\":\"#1f77b4\"},\"line_alpha\":{\"value\":0.1},\"line_color\":{\"value\":\"#1f77b4\"},\"x\":{\"field\":\"dropout\"},\"y\":{\"field\":\"FinalObjectiveValue\"}},\"id\":\"1868\",\"type\":\"Circle\"},{\"attributes\":{\"data_source\":{\"id\":\"1865\",\"type\":\"ColumnDataSource\"},\"glyph\":{\"id\":\"1867\",\"type\":\"Circle\"},\"hover_glyph\":null,\"muted_glyph\":null,\"nonselection_glyph\":{\"id\":\"1868\",\"type\":\"Circle\"},\"selection_glyph\":null,\"view\":{\"id\":\"1870\",\"type\":\"CDSView\"}},\"id\":\"1869\",\"type\":\"GlyphRenderer\"},{\"attributes\":{},\"id\":\"1805\",\"type\":\"PanTool\"},{\"attributes\":{},\"id\":\"1806\",\"type\":\"CrosshairTool\"},{\"attributes\":{},\"id\":\"1837\",\"type\":\"LinearScale\"},{\"attributes\":{},\"id\":\"1793\",\"type\":\"LinearScale\"},{\"attributes\":{\"fill_alpha\":{\"value\":0.1},\"fill_color\":{\"value\":\"#1f77b4\"},\"line_alpha\":{\"value\":0.1},\"line_color\":{\"value\":\"#1f77b4\"},\"x\":{\"field\":\"fine_tuning_epochs\"},\"y\":{\"field\":\"FinalObjectiveValue\"}},\"id\":\"1824\",\"type\":\"Circle\"},{\"attributes\":{\"data_source\":{\"id\":\"1821\",\"type\":\"ColumnDataSource\"},\"glyph\":{\"id\":\"1823\",\"type\":\"Circle\"},\"hover_glyph\":null,\"muted_glyph\":null,\"nonselection_glyph\":{\"id\":\"1824\",\"type\":\"Circle\"},\"selection_glyph\":null,\"view\":{\"id\":\"1826\",\"type\":\"CDSView\"}},\"id\":\"1825\",\"type\":\"GlyphRenderer\"},{\"attributes\":{},\"id\":\"1807\",\"type\":\"WheelZoomTool\"},{\"attributes\":{},\"id\":\"1982\",\"type\":\"BasicTickFormatter\"},{\"attributes\":{\"below\":[{\"id\":\"1839\",\"type\":\"LinearAxis\"}],\"left\":[{\"id\":\"1844\",\"type\":\"LinearAxis\"}],\"plot_height\":500,\"plot_width\":500,\"renderers\":[{\"id\":\"1839\",\"type\":\"LinearAxis\"},{\"id\":\"1843\",\"type\":\"Grid\"},{\"id\":\"1844\",\"type\":\"LinearAxis\"},{\"id\":\"1848\",\"type\":\"Grid\"},{\"id\":\"1869\",\"type\":\"GlyphRenderer\"}],\"title\":{\"id\":\"1828\",\"type\":\"Title\"},\"toolbar\":{\"id\":\"1856\",\"type\":\"Toolbar\"},\"x_range\":{\"id\":\"1831\",\"type\":\"DataRange1d\"},\"x_scale\":{\"id\":\"1835\",\"type\":\"LinearScale\"},\"y_range\":{\"id\":\"1833\",\"type\":\"DataRange1d\"},\"y_scale\":{\"id\":\"1837\",\"type\":\"LinearScale\"}},\"id\":\"1829\",\"subtype\":\"Figure\",\"type\":\"Plot\"},{\"attributes\":{\"callback\":null,\"tooltips\":[[\"FinalObjectiveValue\",\"@FinalObjectiveValue\"],[\"TrainingJobName\",\"@TrainingJobName\"],[\"fine_tuning_epochs\",\"@{fine_tuning_epochs}\"],[\"dropout\",\"@{dropout}\"],[\"fine_tuning_lr\",\"@{fine_tuning_lr}\"]]},\"id\":\"1871\",\"type\":\"HoverTool\"},{\"attributes\":{\"plot\":{\"id\":\"1785\",\"subtype\":\"Figure\",\"type\":\"Plot\"},\"ticker\":{\"id\":\"1796\",\"type\":\"BasicTicker\"}},\"id\":\"1799\",\"type\":\"Grid\"},{\"attributes\":{},\"id\":\"1801\",\"type\":\"BasicTicker\"},{\"attributes\":{},\"id\":\"1855\",\"type\":\"ResetTool\"},{\"attributes\":{\"source\":{\"id\":\"1821\",\"type\":\"ColumnDataSource\"}},\"id\":\"1826\",\"type\":\"CDSView\"},{\"attributes\":{\"callback\":null},\"id\":\"1833\",\"type\":\"DataRange1d\"},{\"attributes\":{},\"id\":\"1810\",\"type\":\"UndoTool\"},{\"attributes\":{\"plot\":null,\"text\":\"Objective vs dropout\"},\"id\":\"1828\",\"type\":\"Title\"},{\"attributes\":{\"callback\":null},\"id\":\"1831\",\"type\":\"DataRange1d\"},{\"attributes\":{\"fill_color\":{\"value\":\"#1f77b4\"},\"line_color\":{\"value\":\"#1f77b4\"},\"x\":{\"field\":\"fine_tuning_epochs\"},\"y\":{\"field\":\"FinalObjectiveValue\"}},\"id\":\"1823\",\"type\":\"Circle\"},{\"attributes\":{},\"id\":\"1791\",\"type\":\"LinearScale\"},{\"attributes\":{},\"id\":\"1835\",\"type\":\"LinearScale\"},{\"attributes\":{},\"id\":\"1809\",\"type\":\"ZoomOutTool\"},{\"attributes\":{},\"id\":\"1850\",\"type\":\"CrosshairTool\"},{\"attributes\":{\"dimension\":1,\"plot\":{\"id\":\"1785\",\"subtype\":\"Figure\",\"type\":\"Plot\"},\"ticker\":{\"id\":\"1801\",\"type\":\"BasicTicker\"}},\"id\":\"1804\",\"type\":\"Grid\"},{\"attributes\":{\"axis_label\":\"validation:acc\",\"formatter\":{\"id\":\"1982\",\"type\":\"BasicTickFormatter\"},\"plot\":{\"id\":\"1785\",\"subtype\":\"Figure\",\"type\":\"Plot\"},\"ticker\":{\"id\":\"1801\",\"type\":\"BasicTicker\"}},\"id\":\"1800\",\"type\":\"LinearAxis\"},{\"attributes\":{},\"id\":\"1997\",\"type\":\"UnionRenderers\"},{\"attributes\":{},\"id\":\"1879\",\"type\":\"LinearScale\"},{\"attributes\":{\"axis_label\":\"validation:acc\",\"formatter\":{\"id\":\"1990\",\"type\":\"BasicTickFormatter\"},\"plot\":{\"id\":\"1873\",\"subtype\":\"Figure\",\"type\":\"Plot\"},\"ticker\":{\"id\":\"1889\",\"type\":\"BasicTicker\"}},\"id\":\"1888\",\"type\":\"LinearAxis\"},{\"attributes\":{\"data_source\":{\"id\":\"1909\",\"type\":\"ColumnDataSource\"},\"glyph\":{\"id\":\"1911\",\"type\":\"Circle\"},\"hover_glyph\":null,\"muted_glyph\":null,\"nonselection_glyph\":{\"id\":\"1912\",\"type\":\"Circle\"},\"selection_glyph\":null,\"view\":{\"id\":\"1914\",\"type\":\"CDSView\"}},\"id\":\"1913\",\"type\":\"GlyphRenderer\"},{\"attributes\":{},\"id\":\"1884\",\"type\":\"BasicTicker\"},{\"attributes\":{},\"id\":\"1993\",\"type\":\"UnionRenderers\"},{\"attributes\":{},\"id\":\"1984\",\"type\":\"BasicTickFormatter\"},{\"attributes\":{\"callback\":null},\"id\":\"1877\",\"type\":\"DataRange1d\"},{\"attributes\":{\"axis_label\":\"fine_tuning_lr\",\"formatter\":{\"id\":\"1988\",\"type\":\"BasicTickFormatter\"},\"plot\":{\"id\":\"1873\",\"subtype\":\"Figure\",\"type\":\"Plot\"},\"ticker\":{\"id\":\"1884\",\"type\":\"BasicTicker\"}},\"id\":\"1883\",\"type\":\"LinearAxis\"},{\"attributes\":{\"plot\":{\"id\":\"1873\",\"subtype\":\"Figure\",\"type\":\"Plot\"},\"ticker\":{\"id\":\"1884\",\"type\":\"BasicTicker\"}},\"id\":\"1887\",\"type\":\"Grid\"},{\"attributes\":{},\"id\":\"1881\",\"type\":\"LinearScale\"},{\"attributes\":{\"fill_alpha\":{\"value\":0.1},\"fill_color\":{\"value\":\"#1f77b4\"},\"line_alpha\":{\"value\":0.1},\"line_color\":{\"value\":\"#1f77b4\"},\"x\":{\"field\":\"fine_tuning_lr\"},\"y\":{\"field\":\"FinalObjectiveValue\"}},\"id\":\"1912\",\"type\":\"Circle\"},{\"attributes\":{},\"id\":\"1995\",\"type\":\"UnionRenderers\"},{\"attributes\":{\"callback\":null},\"id\":\"1875\",\"type\":\"DataRange1d\"},{\"attributes\":{\"source\":{\"id\":\"1909\",\"type\":\"ColumnDataSource\"}},\"id\":\"1914\",\"type\":\"CDSView\"},{\"attributes\":{\"fill_color\":{\"value\":\"#1f77b4\"},\"line_color\":{\"value\":\"#1f77b4\"},\"x\":{\"field\":\"fine_tuning_lr\"},\"y\":{\"field\":\"FinalObjectiveValue\"}},\"id\":\"1911\",\"type\":\"Circle\"},{\"attributes\":{},\"id\":\"1895\",\"type\":\"WheelZoomTool\"},{\"attributes\":{},\"id\":\"1986\",\"type\":\"BasicTickFormatter\"},{\"attributes\":{},\"id\":\"1894\",\"type\":\"CrosshairTool\"},{\"attributes\":{\"below\":[{\"id\":\"1883\",\"type\":\"LinearAxis\"}],\"left\":[{\"id\":\"1888\",\"type\":\"LinearAxis\"}],\"plot_height\":500,\"plot_width\":500,\"renderers\":[{\"id\":\"1883\",\"type\":\"LinearAxis\"},{\"id\":\"1887\",\"type\":\"Grid\"},{\"id\":\"1888\",\"type\":\"LinearAxis\"},{\"id\":\"1892\",\"type\":\"Grid\"},{\"id\":\"1913\",\"type\":\"GlyphRenderer\"}],\"title\":{\"id\":\"1872\",\"type\":\"Title\"},\"toolbar\":{\"id\":\"1900\",\"type\":\"Toolbar\"},\"x_range\":{\"id\":\"1875\",\"type\":\"DataRange1d\"},\"x_scale\":{\"id\":\"1879\",\"type\":\"LinearScale\"},\"y_range\":{\"id\":\"1877\",\"type\":\"DataRange1d\"},\"y_scale\":{\"id\":\"1881\",\"type\":\"LinearScale\"}},\"id\":\"1873\",\"subtype\":\"Figure\",\"type\":\"Plot\"},{\"attributes\":{\"plot\":null,\"text\":\"Objective vs fine_tuning_lr\"},\"id\":\"1872\",\"type\":\"Title\"},{\"attributes\":{},\"id\":\"1988\",\"type\":\"BasicTickFormatter\"},{\"attributes\":{},\"id\":\"1990\",\"type\":\"BasicTickFormatter\"},{\"attributes\":{},\"id\":\"1893\",\"type\":\"PanTool\"},{\"attributes\":{\"callback\":null,\"data\":{\"FinalObjectiveValue\":{\"__ndarray__\":\"AAAAAAAA8D8AAAAAAADwPwAAAAAAAPA/AAAAAAAA8D8AAADgpZvuPwAAAEDEseA/AAAAoHec3j8=\",\"dtype\":\"float64\",\"shape\":[7]},\"TrainingElapsedTimeSeconds\":{\"__ndarray__\":\"AAAAAABAb0AAAAAAAGBtQAAAAAAA4GtAAAAAAABwcUAAAAAAADBxQAAAAAAAwGlAAAAAAAAAbEA=\",\"dtype\":\"float64\",\"shape\":[7]},\"TrainingEndTime\":{\"__ndarray__\":\"AICnGBTRdkIAAADrE9F2QgAA0WAT0XZCAACm/xLRdkIAAAsEE9F2QgAAhT0U0XZCAIBevBPRdkI=\",\"dtype\":\"float64\",\"shape\":[7]},\"TrainingJobName\":[\"tf-hpo-ic-190908-1357-007-2bd73a98\",\"tf-hpo-ic-190908-1357-006-65c428c8\",\"tf-hpo-ic-190908-1357-003-e88ecaec\",\"tf-hpo-ic-190908-1357-001-04afcf0c\",\"tf-hpo-ic-190908-1357-002-7e01f400\",\"tf-hpo-ic-190908-1357-008-1e99183d\",\"tf-hpo-ic-190908-1357-005-08170720\"],\"TrainingJobStatus\":[\"Completed\",\"Completed\",\"Completed\",\"Completed\",\"Completed\",\"Completed\",\"Completed\"],\"TrainingStartTime\":{\"__ndarray__\":\"AICe2xPRdkIAgKCxE9F2QgCAXyoT0XZCAICIuxLRdkIAgOfAEtF2QgAAOgsU0XZCAICuhRPRdkI=\",\"dtype\":\"float64\",\"shape\":[7]},\"dropout\":{\"__ndarray__\":\"AC0N05mc2z+vdO5NLv7SPwAtDdPZJt0/rnTuTS7D3z8gJ0in3CvWPwAtDdPZP9U/XbzPyEKs0j8=\",\"dtype\":\"float64\",\"shape\":[7]},\"fine_tuning_epochs\":{\"__ndarray__\":\"AAAAAACASkAAAAAAAABEQAAAAAAAgEFAAAAAAACAQUAAAAAAAIBHQAAAAAAAgEFAAAAAAAAAREA=\",\"dtype\":\"float64\",\"shape\":[7]},\"fine_tuning_lr\":{\"__ndarray__\":\"+yxNugLR5T5KtuznYmYbP7ZXHbZVuUM/vLa71FBYED+JSvqxr4X7PmC+pVeI6+c+QtKF1fawHD8=\",\"dtype\":\"float64\",\"shape\":[7]},\"index\":[1,2,5,7,6,0,3]},\"selected\":{\"id\":\"1996\",\"type\":\"Selection\"},\"selection_policy\":{\"id\":\"1997\",\"type\":\"UnionRenderers\"}},\"id\":\"1909\",\"type\":\"ColumnDataSource\"},{\"attributes\":{},\"id\":\"1992\",\"type\":\"Selection\"},{\"attributes\":{},\"id\":\"1889\",\"type\":\"BasicTicker\"},{\"attributes\":{\"dimension\":1,\"plot\":{\"id\":\"1873\",\"subtype\":\"Figure\",\"type\":\"Plot\"},\"ticker\":{\"id\":\"1889\",\"type\":\"BasicTicker\"}},\"id\":\"1892\",\"type\":\"Grid\"},{\"attributes\":{},\"id\":\"1994\",\"type\":\"Selection\"},{\"attributes\":{\"callback\":null,\"tooltips\":[[\"FinalObjectiveValue\",\"@FinalObjectiveValue\"],[\"TrainingJobName\",\"@TrainingJobName\"],[\"fine_tuning_epochs\",\"@{fine_tuning_epochs}\"],[\"dropout\",\"@{dropout}\"],[\"fine_tuning_lr\",\"@{fine_tuning_lr}\"]]},\"id\":\"1783\",\"type\":\"HoverTool\"},{\"attributes\":{},\"id\":\"1897\",\"type\":\"ZoomOutTool\"},{\"attributes\":{\"callback\":null},\"id\":\"1789\",\"type\":\"DataRange1d\"},{\"attributes\":{},\"id\":\"1899\",\"type\":\"ResetTool\"},{\"attributes\":{\"callback\":null},\"id\":\"1787\",\"type\":\"DataRange1d\"},{\"attributes\":{\"active_drag\":\"auto\",\"active_inspect\":\"auto\",\"active_multi\":null,\"active_scroll\":\"auto\",\"active_tap\":\"auto\",\"tools\":[{\"id\":\"1871\",\"type\":\"HoverTool\"},{\"id\":\"1893\",\"type\":\"PanTool\"},{\"id\":\"1894\",\"type\":\"CrosshairTool\"},{\"id\":\"1895\",\"type\":\"WheelZoomTool\"},{\"id\":\"1896\",\"type\":\"ZoomInTool\"},{\"id\":\"1897\",\"type\":\"ZoomOutTool\"},{\"id\":\"1898\",\"type\":\"UndoTool\"},{\"id\":\"1899\",\"type\":\"ResetTool\"}]},\"id\":\"1900\",\"type\":\"Toolbar\"},{\"attributes\":{\"below\":[{\"id\":\"1795\",\"type\":\"LinearAxis\"}],\"left\":[{\"id\":\"1800\",\"type\":\"LinearAxis\"}],\"plot_height\":500,\"plot_width\":500,\"renderers\":[{\"id\":\"1795\",\"type\":\"LinearAxis\"},{\"id\":\"1799\",\"type\":\"Grid\"},{\"id\":\"1800\",\"type\":\"LinearAxis\"},{\"id\":\"1804\",\"type\":\"Grid\"},{\"id\":\"1825\",\"type\":\"GlyphRenderer\"}],\"title\":{\"id\":\"1784\",\"type\":\"Title\"},\"toolbar\":{\"id\":\"1812\",\"type\":\"Toolbar\"},\"x_range\":{\"id\":\"1787\",\"type\":\"DataRange1d\"},\"x_scale\":{\"id\":\"1791\",\"type\":\"LinearScale\"},\"y_range\":{\"id\":\"1789\",\"type\":\"DataRange1d\"},\"y_scale\":{\"id\":\"1793\",\"type\":\"LinearScale\"}},\"id\":\"1785\",\"subtype\":\"Figure\",\"type\":\"Plot\"},{\"attributes\":{\"plot\":null,\"text\":\"Objective vs fine_tuning_epochs\"},\"id\":\"1784\",\"type\":\"Title\"},{\"attributes\":{\"dimension\":1,\"plot\":{\"id\":\"1829\",\"subtype\":\"Figure\",\"type\":\"Plot\"},\"ticker\":{\"id\":\"1845\",\"type\":\"BasicTicker\"}},\"id\":\"1848\",\"type\":\"Grid\"},{\"attributes\":{\"callback\":null,\"data\":{\"FinalObjectiveValue\":{\"__ndarray__\":\"AAAAAAAA8D8AAAAAAADwPwAAAAAAAPA/AAAAAAAA8D8AAADgpZvuPwAAAEDEseA/AAAAoHec3j8=\",\"dtype\":\"float64\",\"shape\":[7]},\"TrainingElapsedTimeSeconds\":{\"__ndarray__\":\"AAAAAABAb0AAAAAAAGBtQAAAAAAA4GtAAAAAAABwcUAAAAAAADBxQAAAAAAAwGlAAAAAAAAAbEA=\",\"dtype\":\"float64\",\"shape\":[7]},\"TrainingEndTime\":{\"__ndarray__\":\"AICnGBTRdkIAAADrE9F2QgAA0WAT0XZCAACm/xLRdkIAAAsEE9F2QgAAhT0U0XZCAIBevBPRdkI=\",\"dtype\":\"float64\",\"shape\":[7]},\"TrainingJobName\":[\"tf-hpo-ic-190908-1357-007-2bd73a98\",\"tf-hpo-ic-190908-1357-006-65c428c8\",\"tf-hpo-ic-190908-1357-003-e88ecaec\",\"tf-hpo-ic-190908-1357-001-04afcf0c\",\"tf-hpo-ic-190908-1357-002-7e01f400\",\"tf-hpo-ic-190908-1357-008-1e99183d\",\"tf-hpo-ic-190908-1357-005-08170720\"],\"TrainingJobStatus\":[\"Completed\",\"Completed\",\"Completed\",\"Completed\",\"Completed\",\"Completed\",\"Completed\"],\"TrainingStartTime\":{\"__ndarray__\":\"AICe2xPRdkIAgKCxE9F2QgCAXyoT0XZCAICIuxLRdkIAgOfAEtF2QgAAOgsU0XZCAICuhRPRdkI=\",\"dtype\":\"float64\",\"shape\":[7]},\"dropout\":{\"__ndarray__\":\"AC0N05mc2z+vdO5NLv7SPwAtDdPZJt0/rnTuTS7D3z8gJ0in3CvWPwAtDdPZP9U/XbzPyEKs0j8=\",\"dtype\":\"float64\",\"shape\":[7]},\"fine_tuning_epochs\":{\"__ndarray__\":\"AAAAAACASkAAAAAAAABEQAAAAAAAgEFAAAAAAACAQUAAAAAAAIBHQAAAAAAAgEFAAAAAAAAAREA=\",\"dtype\":\"float64\",\"shape\":[7]},\"fine_tuning_lr\":{\"__ndarray__\":\"+yxNugLR5T5KtuznYmYbP7ZXHbZVuUM/vLa71FBYED+JSvqxr4X7PmC+pVeI6+c+QtKF1fawHD8=\",\"dtype\":\"float64\",\"shape\":[7]},\"index\":[1,2,5,7,6,0,3]},\"selected\":{\"id\":\"1992\",\"type\":\"Selection\"},\"selection_policy\":{\"id\":\"1993\",\"type\":\"UnionRenderers\"}},\"id\":\"1821\",\"type\":\"ColumnDataSource\"},{\"attributes\":{},\"id\":\"1851\",\"type\":\"WheelZoomTool\"},{\"attributes\":{},\"id\":\"1849\",\"type\":\"PanTool\"},{\"attributes\":{},\"id\":\"1896\",\"type\":\"ZoomInTool\"},{\"attributes\":{},\"id\":\"1996\",\"type\":\"Selection\"},{\"attributes\":{},\"id\":\"1898\",\"type\":\"UndoTool\"},{\"attributes\":{\"fill_color\":{\"value\":\"#1f77b4\"},\"line_color\":{\"value\":\"#1f77b4\"},\"x\":{\"field\":\"dropout\"},\"y\":{\"field\":\"FinalObjectiveValue\"}},\"id\":\"1867\",\"type\":\"Circle\"}],\"root_ids\":[\"1915\"]},\"title\":\"Bokeh Application\",\"version\":\"1.0.4\"}};\n",
       "  var render_items = [{\"docid\":\"c94a6ae0-a147-4002-af21-dae801c85321\",\"roots\":{\"1915\":\"4bcc4c29-6ac9-4319-9b79-4ec8374c080a\"}}];\n",
       "  root.Bokeh.embed.embed_items_notebook(docs_json, render_items);\n",
       "\n",
       "  }\n",
       "  if (root.Bokeh !== undefined) {\n",
       "    embed_document(root);\n",
       "  } else {\n",
       "    var attempts = 0;\n",
       "    var timer = setInterval(function(root) {\n",
       "      if (root.Bokeh !== undefined) {\n",
       "        embed_document(root);\n",
       "        clearInterval(timer);\n",
       "      }\n",
       "      attempts++;\n",
       "      if (attempts > 100) {\n",
       "        console.log(\"Bokeh: ERROR: Unable to run BokehJS code because BokehJS library is missing\");\n",
       "        clearInterval(timer);\n",
       "      }\n",
       "    }, 10, root)\n",
       "  }\n",
       "})(window);"
      ],
      "application/vnd.bokehjs_exec.v0+json": ""
     },
     "metadata": {
      "application/vnd.bokehjs_exec.v0+json": {
       "id": "1915"
      }
     },
     "output_type": "display_data"
    }
   ],
   "source": [
    "ranges = tuner_analytics.tuning_ranges\n",
    "figures = []\n",
    "for hp_name, hp_range in ranges.items():\n",
    "    categorical_args = {}\n",
    "    if hp_range.get('Values'):\n",
    "        # This is marked as categorical.  Check if all options are actually numbers.\n",
    "        def is_num(x):\n",
    "            try:\n",
    "                float(x)\n",
    "                return 1\n",
    "            except:\n",
    "                return 0           \n",
    "        vals = hp_range['Values']\n",
    "        if sum([is_num(x) for x in vals]) == len(vals):\n",
    "            # Bokeh has issues plotting a \"categorical\" range that's actually numeric, so plot as numeric\n",
    "            print(\"Hyperparameter %s is tuned as categorical, but all values are numeric\" % hp_name)\n",
    "        else:\n",
    "            # Set up extra options for plotting categoricals.  A bit tricky when they're actually numbers.\n",
    "            categorical_args['x_range'] = vals\n",
    "\n",
    "    # Now plot it\n",
    "    p = figure(plot_width=500, plot_height=500, \n",
    "               title=\"Objective vs %s\" % hp_name,\n",
    "               tools=hover.tools(),\n",
    "               x_axis_label=hp_name, y_axis_label=objective_name,\n",
    "               **categorical_args)\n",
    "    p.circle(source=df, x=hp_name, y='FinalObjectiveValue')\n",
    "    figures.append(p)\n",
    "show(bokeh.layouts.Column(*figures))"
   ]
  },
  {
   "cell_type": "code",
   "execution_count": null,
   "metadata": {},
   "outputs": [],
   "source": []
  }
 ],
 "metadata": {
  "kernelspec": {
   "display_name": "conda_tensorflow_p36",
   "language": "python",
   "name": "conda_tensorflow_p36"
  },
  "language_info": {
   "codemirror_mode": {
    "name": "ipython",
    "version": 3
   },
   "file_extension": ".py",
   "mimetype": "text/x-python",
   "name": "python",
   "nbconvert_exporter": "python",
   "pygments_lexer": "ipython3",
   "version": "3.6.5"
  }
 },
 "nbformat": 4,
 "nbformat_minor": 2
}
